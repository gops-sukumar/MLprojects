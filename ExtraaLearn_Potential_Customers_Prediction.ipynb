{
  "cells": [
    {
      "cell_type": "markdown",
      "metadata": {
        "id": "view-in-github",
        "colab_type": "text"
      },
      "source": [
        "<a href=\"https://colab.research.google.com/github/gops-sukumar/MLprojects/blob/main/ExtraaLearn_Potential_Customers_Prediction.ipynb\" target=\"_parent\"><img src=\"https://colab.research.google.com/assets/colab-badge.svg\" alt=\"Open In Colab\"/></a>"
      ]
    },
    {
      "cell_type": "markdown",
      "id": "dense-medicaid",
      "metadata": {
        "id": "dense-medicaid"
      },
      "source": [
        "# ExtraaLearn Project\n",
        "\n",
        "## Context\n",
        "\n",
        "The EdTech industry has been surging in the past decade immensely, and according to a forecast, the Online Education market would be worth $286.62bn by 2023 with a compound annual growth rate (CAGR) of 10.26% from 2018 to 2023. The modern era of online education has enforced a lot in its growth and expansion beyond any limit. Due to having many dominant features like ease of information sharing, personalized learning experience, transparency of assessment, etc, it is now preferable to traditional education.\n",
        "\n",
        "In the present scenario due to the Covid-19, the online education sector has witnessed rapid growth and is attracting a lot of new customers. Due to this rapid growth, many new companies have emerged in this industry. With the availability and ease of use of digital marketing resources, companies can reach out to a wider audience with their offerings. The customers who show interest in these offerings are termed as leads. There are various sources of obtaining leads for Edtech companies, like\n",
        "\n",
        "* The customer interacts with the marketing front on social media or other online platforms.\n",
        "* The customer browses the website/app and downloads the brochure\n",
        "* The customer connects through emails for more information.\n",
        "\n",
        "The company then nurtures these leads and tries to convert them to paid customers. For this, the representative from the organization connects with the lead on call or through email to share further details.\n",
        "\n",
        "## Objective\n",
        "\n",
        "ExtraaLearn is an initial stage startup that offers programs on cutting-edge technologies to students and professionals to help them upskill/reskill. With a large number of leads being generated regularly, one of the issues faced by ExtraaLearn is to identify which of the leads are more likely to convert so that they can allocate resources accordingly. You, as a data scientist at ExtraaLearn, have been provided the leads data to:\n",
        "* Analyze and build an ML model to help identify which leads are more likely to convert to paid customers,\n",
        "* Find the factors driving the lead conversion process\n",
        "* Create a profile of the leads which are likely to convert\n",
        "\n",
        "\n",
        "## Data Description\n",
        "\n",
        "The data contains the different attributes of leads and their interaction details with ExtraaLearn. The detailed data dictionary is given below.\n",
        "\n",
        "\n",
        "**Data Dictionary**\n",
        "* ID: ID of the lead\n",
        "* age: Age of the lead\n",
        "* current_occupation: Current occupation of the lead. Values include 'Professional','Unemployed',and 'Student'\n",
        "* first_interaction: How did the lead first interact with ExtraaLearn. Values include 'Website', 'Mobile App'\n",
        "* profile_completed: What percentage of the profile has been filled by the lead on the website/mobile app. Values include Low - (0-50%), Medium - (50-75%), High (75-100%)\n",
        "* website_visits: How many times has a lead visited the website\n",
        "* time_spent_on_website: Total time spent on the website\n",
        "* page_views_per_visit: Average number of pages on the website viewed during the visits.\n",
        "* last_activity: Last interaction between the lead and ExtraaLearn.\n",
        "    * Email Activity: Seeking for details about the program through email, Representative shared information with a lead like a brochure of program, etc\n",
        "    * Phone Activity: Had a Phone Conversation with a representative, Had conversation over SMS with a representative, etc\n",
        "    * Website Activity: Interacted on live chat with a representative, Updated profile on the website, etc\n",
        "\n",
        "* print_media_type1: Flag indicating whether the lead had seen the ad of ExtraaLearn in the Newspaper.\n",
        "* print_media_type2: Flag indicating whether the lead had seen the ad of ExtraaLearn in the Magazine.\n",
        "* digital_media: Flag indicating whether the lead had seen the ad of ExtraaLearn on the digital platforms.\n",
        "* educational_channels: Flag indicating whether the lead had heard about ExtraaLearn in the education channels like online forums, discussion threads, educational websites, etc.\n",
        "* referral: Flag indicating whether the lead had heard about ExtraaLearn through reference.\n",
        "* status: Flag indicating whether the lead was converted to a paid customer or not."
      ]
    },
    {
      "cell_type": "markdown",
      "id": "d0ef2b3c",
      "metadata": {
        "id": "d0ef2b3c"
      },
      "source": [
        "### **Please read the instructions carefully before starting the project.**\n",
        "This is a commented Jupyter IPython Notebook file in which all the instructions and tasks to be performed are mentioned.\n",
        "* Blanks '_______' are provided in the notebook that\n",
        "needs to be filled with an appropriate code to get the correct result. With every '_______' blank, there is a comment that briefly describes what needs to be filled in the blank space.\n",
        "* Identify the task to be performed correctly, and only then proceed to write the required code.\n",
        "* Fill the code wherever asked by the commented lines like \"# write your code here\" or \"# complete the code\". Running incomplete code may throw error.\n",
        "* Please run the codes in a sequential manner from the beginning to avoid any unnecessary errors.\n",
        "* Add the results/observations (wherever mentioned) derived from the analysis in the presentation and submit the same."
      ]
    },
    {
      "cell_type": "code",
      "execution_count": null,
      "id": "proper-calgary",
      "metadata": {
        "id": "proper-calgary"
      },
      "outputs": [],
      "source": [
        "import warnings\n",
        "\n",
        "warnings.filterwarnings(\"ignore\")\n",
        "from statsmodels.tools.sm_exceptions import ConvergenceWarning\n",
        "\n",
        "warnings.simplefilter(\"ignore\", ConvergenceWarning)\n",
        "\n",
        "# Libraries to help with reading and manipulating data\n",
        "\n",
        "import pandas as pd\n",
        "import numpy as np\n",
        "\n",
        "# Library to split data\n",
        "from sklearn.model_selection import train_test_split\n",
        "\n",
        "# libaries to help with data visualization\n",
        "import matplotlib.pyplot as plt\n",
        "import seaborn as sns\n",
        "\n",
        "# Removes the limit for the number of displayed columns\n",
        "pd.set_option(\"display.max_columns\", None)\n",
        "# Sets the limit for the number of displayed rows\n",
        "pd.set_option(\"display.max_rows\", 200)\n",
        "# setting the precision of floating numbers to 5 decimal points\n",
        "pd.set_option(\"display.float_format\", lambda x: \"%.5f\" % x)\n",
        "\n",
        "# To build model for prediction\n",
        "import statsmodels.stats.api as sms\n",
        "from statsmodels.stats.outliers_influence import variance_inflation_factor\n",
        "import statsmodels.api as sm\n",
        "from statsmodels.tools.tools import add_constant\n",
        "from sklearn.linear_model import LogisticRegression\n",
        "from sklearn.tree import DecisionTreeClassifier\n",
        "from sklearn import tree\n",
        "from sklearn.ensemble import RandomForestClassifier\n",
        "\n",
        "# To tune different models\n",
        "from sklearn.model_selection import GridSearchCV\n",
        "\n",
        "\n",
        "# To get diferent metric scores\n",
        "import sklearn.metrics as metrics\n",
        "from sklearn.metrics import (\n",
        "    f1_score,\n",
        "    accuracy_score,\n",
        "    recall_score,\n",
        "    precision_score,\n",
        "    confusion_matrix,\n",
        "    classification_report,\n",
        "    roc_auc_score,\n",
        "    precision_recall_curve,\n",
        "    roc_curve,\n",
        "    make_scorer,\n",
        ")"
      ]
    },
    {
      "cell_type": "markdown",
      "id": "fantastic-rebel",
      "metadata": {
        "id": "fantastic-rebel"
      },
      "source": [
        "## Import Dataset"
      ]
    },
    {
      "cell_type": "code",
      "source": [
        "from google.colab import drive\n",
        "drive.mount('/content/drive')"
      ],
      "metadata": {
        "colab": {
          "base_uri": "https://localhost:8080/"
        },
        "id": "-hs4A0DCk1dn",
        "outputId": "c884a6dc-8243-4f6a-e9eb-c01ed0c27f11"
      },
      "id": "-hs4A0DCk1dn",
      "execution_count": null,
      "outputs": [
        {
          "output_type": "stream",
          "name": "stdout",
          "text": [
            "Mounted at /content/drive\n"
          ]
        }
      ]
    },
    {
      "cell_type": "code",
      "execution_count": null,
      "id": "precious-leonard",
      "metadata": {
        "id": "precious-leonard"
      },
      "outputs": [],
      "source": [
        "fpath = \"/content/drive/MyDrive/Colab Notebooks/Project_2_ExtraaLearn/ExtraaLearn.csv\"\n",
        "el_pd = pd.read_csv(fpath)"
      ]
    },
    {
      "cell_type": "code",
      "execution_count": null,
      "id": "geographic-gender",
      "metadata": {
        "id": "geographic-gender"
      },
      "outputs": [],
      "source": [
        "# copying data to another variable to avoid any changes to original data\n",
        "data = el_pd.copy()"
      ]
    },
    {
      "cell_type": "markdown",
      "id": "convinced-blackberry",
      "metadata": {
        "id": "convinced-blackberry"
      },
      "source": [
        "### View the first and last 5 rows of the dataset"
      ]
    },
    {
      "cell_type": "code",
      "execution_count": null,
      "id": "tested-adjustment",
      "metadata": {
        "id": "tested-adjustment",
        "colab": {
          "base_uri": "https://localhost:8080/",
          "height": 226
        },
        "outputId": "0393884c-d2a5-4871-9ebf-3d4f1f134cd1"
      },
      "outputs": [
        {
          "output_type": "execute_result",
          "data": {
            "text/plain": [
              "       ID  age current_occupation first_interaction profile_completed  \\\n",
              "0  EXT001   57         Unemployed           Website              High   \n",
              "1  EXT002   56       Professional        Mobile App            Medium   \n",
              "2  EXT003   52       Professional           Website            Medium   \n",
              "3  EXT004   53         Unemployed           Website              High   \n",
              "4  EXT005   23            Student           Website              High   \n",
              "\n",
              "   website_visits  time_spent_on_website  page_views_per_visit  \\\n",
              "0               7                   1639               1.86100   \n",
              "1               2                     83               0.32000   \n",
              "2               3                    330               0.07400   \n",
              "3               4                    464               2.05700   \n",
              "4               4                    600              16.91400   \n",
              "\n",
              "      last_activity print_media_type1 print_media_type2 digital_media  \\\n",
              "0  Website Activity               Yes                No           Yes   \n",
              "1  Website Activity                No                No            No   \n",
              "2  Website Activity                No                No           Yes   \n",
              "3  Website Activity                No                No            No   \n",
              "4    Email Activity                No                No            No   \n",
              "\n",
              "  educational_channels referral  status  \n",
              "0                   No       No       1  \n",
              "1                  Yes       No       0  \n",
              "2                   No       No       0  \n",
              "3                   No       No       1  \n",
              "4                   No       No       0  "
            ],
            "text/html": [
              "\n",
              "  <div id=\"df-91c5ca95-3f20-4b6c-a2ed-5c448f16eba5\" class=\"colab-df-container\">\n",
              "    <div>\n",
              "<style scoped>\n",
              "    .dataframe tbody tr th:only-of-type {\n",
              "        vertical-align: middle;\n",
              "    }\n",
              "\n",
              "    .dataframe tbody tr th {\n",
              "        vertical-align: top;\n",
              "    }\n",
              "\n",
              "    .dataframe thead th {\n",
              "        text-align: right;\n",
              "    }\n",
              "</style>\n",
              "<table border=\"1\" class=\"dataframe\">\n",
              "  <thead>\n",
              "    <tr style=\"text-align: right;\">\n",
              "      <th></th>\n",
              "      <th>ID</th>\n",
              "      <th>age</th>\n",
              "      <th>current_occupation</th>\n",
              "      <th>first_interaction</th>\n",
              "      <th>profile_completed</th>\n",
              "      <th>website_visits</th>\n",
              "      <th>time_spent_on_website</th>\n",
              "      <th>page_views_per_visit</th>\n",
              "      <th>last_activity</th>\n",
              "      <th>print_media_type1</th>\n",
              "      <th>print_media_type2</th>\n",
              "      <th>digital_media</th>\n",
              "      <th>educational_channels</th>\n",
              "      <th>referral</th>\n",
              "      <th>status</th>\n",
              "    </tr>\n",
              "  </thead>\n",
              "  <tbody>\n",
              "    <tr>\n",
              "      <th>0</th>\n",
              "      <td>EXT001</td>\n",
              "      <td>57</td>\n",
              "      <td>Unemployed</td>\n",
              "      <td>Website</td>\n",
              "      <td>High</td>\n",
              "      <td>7</td>\n",
              "      <td>1639</td>\n",
              "      <td>1.86100</td>\n",
              "      <td>Website Activity</td>\n",
              "      <td>Yes</td>\n",
              "      <td>No</td>\n",
              "      <td>Yes</td>\n",
              "      <td>No</td>\n",
              "      <td>No</td>\n",
              "      <td>1</td>\n",
              "    </tr>\n",
              "    <tr>\n",
              "      <th>1</th>\n",
              "      <td>EXT002</td>\n",
              "      <td>56</td>\n",
              "      <td>Professional</td>\n",
              "      <td>Mobile App</td>\n",
              "      <td>Medium</td>\n",
              "      <td>2</td>\n",
              "      <td>83</td>\n",
              "      <td>0.32000</td>\n",
              "      <td>Website Activity</td>\n",
              "      <td>No</td>\n",
              "      <td>No</td>\n",
              "      <td>No</td>\n",
              "      <td>Yes</td>\n",
              "      <td>No</td>\n",
              "      <td>0</td>\n",
              "    </tr>\n",
              "    <tr>\n",
              "      <th>2</th>\n",
              "      <td>EXT003</td>\n",
              "      <td>52</td>\n",
              "      <td>Professional</td>\n",
              "      <td>Website</td>\n",
              "      <td>Medium</td>\n",
              "      <td>3</td>\n",
              "      <td>330</td>\n",
              "      <td>0.07400</td>\n",
              "      <td>Website Activity</td>\n",
              "      <td>No</td>\n",
              "      <td>No</td>\n",
              "      <td>Yes</td>\n",
              "      <td>No</td>\n",
              "      <td>No</td>\n",
              "      <td>0</td>\n",
              "    </tr>\n",
              "    <tr>\n",
              "      <th>3</th>\n",
              "      <td>EXT004</td>\n",
              "      <td>53</td>\n",
              "      <td>Unemployed</td>\n",
              "      <td>Website</td>\n",
              "      <td>High</td>\n",
              "      <td>4</td>\n",
              "      <td>464</td>\n",
              "      <td>2.05700</td>\n",
              "      <td>Website Activity</td>\n",
              "      <td>No</td>\n",
              "      <td>No</td>\n",
              "      <td>No</td>\n",
              "      <td>No</td>\n",
              "      <td>No</td>\n",
              "      <td>1</td>\n",
              "    </tr>\n",
              "    <tr>\n",
              "      <th>4</th>\n",
              "      <td>EXT005</td>\n",
              "      <td>23</td>\n",
              "      <td>Student</td>\n",
              "      <td>Website</td>\n",
              "      <td>High</td>\n",
              "      <td>4</td>\n",
              "      <td>600</td>\n",
              "      <td>16.91400</td>\n",
              "      <td>Email Activity</td>\n",
              "      <td>No</td>\n",
              "      <td>No</td>\n",
              "      <td>No</td>\n",
              "      <td>No</td>\n",
              "      <td>No</td>\n",
              "      <td>0</td>\n",
              "    </tr>\n",
              "  </tbody>\n",
              "</table>\n",
              "</div>\n",
              "    <div class=\"colab-df-buttons\">\n",
              "\n",
              "  <div class=\"colab-df-container\">\n",
              "    <button class=\"colab-df-convert\" onclick=\"convertToInteractive('df-91c5ca95-3f20-4b6c-a2ed-5c448f16eba5')\"\n",
              "            title=\"Convert this dataframe to an interactive table.\"\n",
              "            style=\"display:none;\">\n",
              "\n",
              "  <svg xmlns=\"http://www.w3.org/2000/svg\" height=\"24px\" viewBox=\"0 -960 960 960\">\n",
              "    <path d=\"M120-120v-720h720v720H120Zm60-500h600v-160H180v160Zm220 220h160v-160H400v160Zm0 220h160v-160H400v160ZM180-400h160v-160H180v160Zm440 0h160v-160H620v160ZM180-180h160v-160H180v160Zm440 0h160v-160H620v160Z\"/>\n",
              "  </svg>\n",
              "    </button>\n",
              "\n",
              "  <style>\n",
              "    .colab-df-container {\n",
              "      display:flex;\n",
              "      gap: 12px;\n",
              "    }\n",
              "\n",
              "    .colab-df-convert {\n",
              "      background-color: #E8F0FE;\n",
              "      border: none;\n",
              "      border-radius: 50%;\n",
              "      cursor: pointer;\n",
              "      display: none;\n",
              "      fill: #1967D2;\n",
              "      height: 32px;\n",
              "      padding: 0 0 0 0;\n",
              "      width: 32px;\n",
              "    }\n",
              "\n",
              "    .colab-df-convert:hover {\n",
              "      background-color: #E2EBFA;\n",
              "      box-shadow: 0px 1px 2px rgba(60, 64, 67, 0.3), 0px 1px 3px 1px rgba(60, 64, 67, 0.15);\n",
              "      fill: #174EA6;\n",
              "    }\n",
              "\n",
              "    .colab-df-buttons div {\n",
              "      margin-bottom: 4px;\n",
              "    }\n",
              "\n",
              "    [theme=dark] .colab-df-convert {\n",
              "      background-color: #3B4455;\n",
              "      fill: #D2E3FC;\n",
              "    }\n",
              "\n",
              "    [theme=dark] .colab-df-convert:hover {\n",
              "      background-color: #434B5C;\n",
              "      box-shadow: 0px 1px 3px 1px rgba(0, 0, 0, 0.15);\n",
              "      filter: drop-shadow(0px 1px 2px rgba(0, 0, 0, 0.3));\n",
              "      fill: #FFFFFF;\n",
              "    }\n",
              "  </style>\n",
              "\n",
              "    <script>\n",
              "      const buttonEl =\n",
              "        document.querySelector('#df-91c5ca95-3f20-4b6c-a2ed-5c448f16eba5 button.colab-df-convert');\n",
              "      buttonEl.style.display =\n",
              "        google.colab.kernel.accessAllowed ? 'block' : 'none';\n",
              "\n",
              "      async function convertToInteractive(key) {\n",
              "        const element = document.querySelector('#df-91c5ca95-3f20-4b6c-a2ed-5c448f16eba5');\n",
              "        const dataTable =\n",
              "          await google.colab.kernel.invokeFunction('convertToInteractive',\n",
              "                                                    [key], {});\n",
              "        if (!dataTable) return;\n",
              "\n",
              "        const docLinkHtml = 'Like what you see? Visit the ' +\n",
              "          '<a target=\"_blank\" href=https://colab.research.google.com/notebooks/data_table.ipynb>data table notebook</a>'\n",
              "          + ' to learn more about interactive tables.';\n",
              "        element.innerHTML = '';\n",
              "        dataTable['output_type'] = 'display_data';\n",
              "        await google.colab.output.renderOutput(dataTable, element);\n",
              "        const docLink = document.createElement('div');\n",
              "        docLink.innerHTML = docLinkHtml;\n",
              "        element.appendChild(docLink);\n",
              "      }\n",
              "    </script>\n",
              "  </div>\n",
              "\n",
              "\n",
              "<div id=\"df-c25d32c7-c2bf-4fdb-bdfa-2232b58904d6\">\n",
              "  <button class=\"colab-df-quickchart\" onclick=\"quickchart('df-c25d32c7-c2bf-4fdb-bdfa-2232b58904d6')\"\n",
              "            title=\"Suggest charts\"\n",
              "            style=\"display:none;\">\n",
              "\n",
              "<svg xmlns=\"http://www.w3.org/2000/svg\" height=\"24px\"viewBox=\"0 0 24 24\"\n",
              "     width=\"24px\">\n",
              "    <g>\n",
              "        <path d=\"M19 3H5c-1.1 0-2 .9-2 2v14c0 1.1.9 2 2 2h14c1.1 0 2-.9 2-2V5c0-1.1-.9-2-2-2zM9 17H7v-7h2v7zm4 0h-2V7h2v10zm4 0h-2v-4h2v4z\"/>\n",
              "    </g>\n",
              "</svg>\n",
              "  </button>\n",
              "\n",
              "<style>\n",
              "  .colab-df-quickchart {\n",
              "      --bg-color: #E8F0FE;\n",
              "      --fill-color: #1967D2;\n",
              "      --hover-bg-color: #E2EBFA;\n",
              "      --hover-fill-color: #174EA6;\n",
              "      --disabled-fill-color: #AAA;\n",
              "      --disabled-bg-color: #DDD;\n",
              "  }\n",
              "\n",
              "  [theme=dark] .colab-df-quickchart {\n",
              "      --bg-color: #3B4455;\n",
              "      --fill-color: #D2E3FC;\n",
              "      --hover-bg-color: #434B5C;\n",
              "      --hover-fill-color: #FFFFFF;\n",
              "      --disabled-bg-color: #3B4455;\n",
              "      --disabled-fill-color: #666;\n",
              "  }\n",
              "\n",
              "  .colab-df-quickchart {\n",
              "    background-color: var(--bg-color);\n",
              "    border: none;\n",
              "    border-radius: 50%;\n",
              "    cursor: pointer;\n",
              "    display: none;\n",
              "    fill: var(--fill-color);\n",
              "    height: 32px;\n",
              "    padding: 0;\n",
              "    width: 32px;\n",
              "  }\n",
              "\n",
              "  .colab-df-quickchart:hover {\n",
              "    background-color: var(--hover-bg-color);\n",
              "    box-shadow: 0 1px 2px rgba(60, 64, 67, 0.3), 0 1px 3px 1px rgba(60, 64, 67, 0.15);\n",
              "    fill: var(--button-hover-fill-color);\n",
              "  }\n",
              "\n",
              "  .colab-df-quickchart-complete:disabled,\n",
              "  .colab-df-quickchart-complete:disabled:hover {\n",
              "    background-color: var(--disabled-bg-color);\n",
              "    fill: var(--disabled-fill-color);\n",
              "    box-shadow: none;\n",
              "  }\n",
              "\n",
              "  .colab-df-spinner {\n",
              "    border: 2px solid var(--fill-color);\n",
              "    border-color: transparent;\n",
              "    border-bottom-color: var(--fill-color);\n",
              "    animation:\n",
              "      spin 1s steps(1) infinite;\n",
              "  }\n",
              "\n",
              "  @keyframes spin {\n",
              "    0% {\n",
              "      border-color: transparent;\n",
              "      border-bottom-color: var(--fill-color);\n",
              "      border-left-color: var(--fill-color);\n",
              "    }\n",
              "    20% {\n",
              "      border-color: transparent;\n",
              "      border-left-color: var(--fill-color);\n",
              "      border-top-color: var(--fill-color);\n",
              "    }\n",
              "    30% {\n",
              "      border-color: transparent;\n",
              "      border-left-color: var(--fill-color);\n",
              "      border-top-color: var(--fill-color);\n",
              "      border-right-color: var(--fill-color);\n",
              "    }\n",
              "    40% {\n",
              "      border-color: transparent;\n",
              "      border-right-color: var(--fill-color);\n",
              "      border-top-color: var(--fill-color);\n",
              "    }\n",
              "    60% {\n",
              "      border-color: transparent;\n",
              "      border-right-color: var(--fill-color);\n",
              "    }\n",
              "    80% {\n",
              "      border-color: transparent;\n",
              "      border-right-color: var(--fill-color);\n",
              "      border-bottom-color: var(--fill-color);\n",
              "    }\n",
              "    90% {\n",
              "      border-color: transparent;\n",
              "      border-bottom-color: var(--fill-color);\n",
              "    }\n",
              "  }\n",
              "</style>\n",
              "\n",
              "  <script>\n",
              "    async function quickchart(key) {\n",
              "      const quickchartButtonEl =\n",
              "        document.querySelector('#' + key + ' button');\n",
              "      quickchartButtonEl.disabled = true;  // To prevent multiple clicks.\n",
              "      quickchartButtonEl.classList.add('colab-df-spinner');\n",
              "      try {\n",
              "        const charts = await google.colab.kernel.invokeFunction(\n",
              "            'suggestCharts', [key], {});\n",
              "      } catch (error) {\n",
              "        console.error('Error during call to suggestCharts:', error);\n",
              "      }\n",
              "      quickchartButtonEl.classList.remove('colab-df-spinner');\n",
              "      quickchartButtonEl.classList.add('colab-df-quickchart-complete');\n",
              "    }\n",
              "    (() => {\n",
              "      let quickchartButtonEl =\n",
              "        document.querySelector('#df-c25d32c7-c2bf-4fdb-bdfa-2232b58904d6 button');\n",
              "      quickchartButtonEl.style.display =\n",
              "        google.colab.kernel.accessAllowed ? 'block' : 'none';\n",
              "    })();\n",
              "  </script>\n",
              "</div>\n",
              "\n",
              "    </div>\n",
              "  </div>\n"
            ]
          },
          "metadata": {},
          "execution_count": 6
        }
      ],
      "source": [
        "data.head()"
      ]
    },
    {
      "cell_type": "code",
      "execution_count": null,
      "id": "demonstrated-charger",
      "metadata": {
        "id": "demonstrated-charger",
        "colab": {
          "base_uri": "https://localhost:8080/",
          "height": 226
        },
        "outputId": "983b237b-3c80-45d2-f7fd-79b0cb5f41cc"
      },
      "outputs": [
        {
          "output_type": "execute_result",
          "data": {
            "text/plain": [
              "           ID  age current_occupation first_interaction profile_completed  \\\n",
              "4607  EXT4608   35         Unemployed        Mobile App            Medium   \n",
              "4608  EXT4609   55       Professional        Mobile App            Medium   \n",
              "4609  EXT4610   58       Professional           Website              High   \n",
              "4610  EXT4611   57       Professional        Mobile App            Medium   \n",
              "4611  EXT4612   55       Professional           Website            Medium   \n",
              "\n",
              "      website_visits  time_spent_on_website  page_views_per_visit  \\\n",
              "4607              15                    360               2.17000   \n",
              "4608               8                   2327               5.39300   \n",
              "4609               2                    212               2.69200   \n",
              "4610               1                    154               3.87900   \n",
              "4611               4                   2290               2.07500   \n",
              "\n",
              "         last_activity print_media_type1 print_media_type2 digital_media  \\\n",
              "4607    Phone Activity                No                No            No   \n",
              "4608    Email Activity                No                No            No   \n",
              "4609    Email Activity                No                No            No   \n",
              "4610  Website Activity               Yes                No            No   \n",
              "4611    Phone Activity                No                No            No   \n",
              "\n",
              "     educational_channels referral  status  \n",
              "4607                  Yes       No       0  \n",
              "4608                   No       No       0  \n",
              "4609                   No       No       1  \n",
              "4610                   No       No       0  \n",
              "4611                   No       No       0  "
            ],
            "text/html": [
              "\n",
              "  <div id=\"df-15076d8a-a782-44fa-99c6-1d1ea2c35f70\" class=\"colab-df-container\">\n",
              "    <div>\n",
              "<style scoped>\n",
              "    .dataframe tbody tr th:only-of-type {\n",
              "        vertical-align: middle;\n",
              "    }\n",
              "\n",
              "    .dataframe tbody tr th {\n",
              "        vertical-align: top;\n",
              "    }\n",
              "\n",
              "    .dataframe thead th {\n",
              "        text-align: right;\n",
              "    }\n",
              "</style>\n",
              "<table border=\"1\" class=\"dataframe\">\n",
              "  <thead>\n",
              "    <tr style=\"text-align: right;\">\n",
              "      <th></th>\n",
              "      <th>ID</th>\n",
              "      <th>age</th>\n",
              "      <th>current_occupation</th>\n",
              "      <th>first_interaction</th>\n",
              "      <th>profile_completed</th>\n",
              "      <th>website_visits</th>\n",
              "      <th>time_spent_on_website</th>\n",
              "      <th>page_views_per_visit</th>\n",
              "      <th>last_activity</th>\n",
              "      <th>print_media_type1</th>\n",
              "      <th>print_media_type2</th>\n",
              "      <th>digital_media</th>\n",
              "      <th>educational_channels</th>\n",
              "      <th>referral</th>\n",
              "      <th>status</th>\n",
              "    </tr>\n",
              "  </thead>\n",
              "  <tbody>\n",
              "    <tr>\n",
              "      <th>4607</th>\n",
              "      <td>EXT4608</td>\n",
              "      <td>35</td>\n",
              "      <td>Unemployed</td>\n",
              "      <td>Mobile App</td>\n",
              "      <td>Medium</td>\n",
              "      <td>15</td>\n",
              "      <td>360</td>\n",
              "      <td>2.17000</td>\n",
              "      <td>Phone Activity</td>\n",
              "      <td>No</td>\n",
              "      <td>No</td>\n",
              "      <td>No</td>\n",
              "      <td>Yes</td>\n",
              "      <td>No</td>\n",
              "      <td>0</td>\n",
              "    </tr>\n",
              "    <tr>\n",
              "      <th>4608</th>\n",
              "      <td>EXT4609</td>\n",
              "      <td>55</td>\n",
              "      <td>Professional</td>\n",
              "      <td>Mobile App</td>\n",
              "      <td>Medium</td>\n",
              "      <td>8</td>\n",
              "      <td>2327</td>\n",
              "      <td>5.39300</td>\n",
              "      <td>Email Activity</td>\n",
              "      <td>No</td>\n",
              "      <td>No</td>\n",
              "      <td>No</td>\n",
              "      <td>No</td>\n",
              "      <td>No</td>\n",
              "      <td>0</td>\n",
              "    </tr>\n",
              "    <tr>\n",
              "      <th>4609</th>\n",
              "      <td>EXT4610</td>\n",
              "      <td>58</td>\n",
              "      <td>Professional</td>\n",
              "      <td>Website</td>\n",
              "      <td>High</td>\n",
              "      <td>2</td>\n",
              "      <td>212</td>\n",
              "      <td>2.69200</td>\n",
              "      <td>Email Activity</td>\n",
              "      <td>No</td>\n",
              "      <td>No</td>\n",
              "      <td>No</td>\n",
              "      <td>No</td>\n",
              "      <td>No</td>\n",
              "      <td>1</td>\n",
              "    </tr>\n",
              "    <tr>\n",
              "      <th>4610</th>\n",
              "      <td>EXT4611</td>\n",
              "      <td>57</td>\n",
              "      <td>Professional</td>\n",
              "      <td>Mobile App</td>\n",
              "      <td>Medium</td>\n",
              "      <td>1</td>\n",
              "      <td>154</td>\n",
              "      <td>3.87900</td>\n",
              "      <td>Website Activity</td>\n",
              "      <td>Yes</td>\n",
              "      <td>No</td>\n",
              "      <td>No</td>\n",
              "      <td>No</td>\n",
              "      <td>No</td>\n",
              "      <td>0</td>\n",
              "    </tr>\n",
              "    <tr>\n",
              "      <th>4611</th>\n",
              "      <td>EXT4612</td>\n",
              "      <td>55</td>\n",
              "      <td>Professional</td>\n",
              "      <td>Website</td>\n",
              "      <td>Medium</td>\n",
              "      <td>4</td>\n",
              "      <td>2290</td>\n",
              "      <td>2.07500</td>\n",
              "      <td>Phone Activity</td>\n",
              "      <td>No</td>\n",
              "      <td>No</td>\n",
              "      <td>No</td>\n",
              "      <td>No</td>\n",
              "      <td>No</td>\n",
              "      <td>0</td>\n",
              "    </tr>\n",
              "  </tbody>\n",
              "</table>\n",
              "</div>\n",
              "    <div class=\"colab-df-buttons\">\n",
              "\n",
              "  <div class=\"colab-df-container\">\n",
              "    <button class=\"colab-df-convert\" onclick=\"convertToInteractive('df-15076d8a-a782-44fa-99c6-1d1ea2c35f70')\"\n",
              "            title=\"Convert this dataframe to an interactive table.\"\n",
              "            style=\"display:none;\">\n",
              "\n",
              "  <svg xmlns=\"http://www.w3.org/2000/svg\" height=\"24px\" viewBox=\"0 -960 960 960\">\n",
              "    <path d=\"M120-120v-720h720v720H120Zm60-500h600v-160H180v160Zm220 220h160v-160H400v160Zm0 220h160v-160H400v160ZM180-400h160v-160H180v160Zm440 0h160v-160H620v160ZM180-180h160v-160H180v160Zm440 0h160v-160H620v160Z\"/>\n",
              "  </svg>\n",
              "    </button>\n",
              "\n",
              "  <style>\n",
              "    .colab-df-container {\n",
              "      display:flex;\n",
              "      gap: 12px;\n",
              "    }\n",
              "\n",
              "    .colab-df-convert {\n",
              "      background-color: #E8F0FE;\n",
              "      border: none;\n",
              "      border-radius: 50%;\n",
              "      cursor: pointer;\n",
              "      display: none;\n",
              "      fill: #1967D2;\n",
              "      height: 32px;\n",
              "      padding: 0 0 0 0;\n",
              "      width: 32px;\n",
              "    }\n",
              "\n",
              "    .colab-df-convert:hover {\n",
              "      background-color: #E2EBFA;\n",
              "      box-shadow: 0px 1px 2px rgba(60, 64, 67, 0.3), 0px 1px 3px 1px rgba(60, 64, 67, 0.15);\n",
              "      fill: #174EA6;\n",
              "    }\n",
              "\n",
              "    .colab-df-buttons div {\n",
              "      margin-bottom: 4px;\n",
              "    }\n",
              "\n",
              "    [theme=dark] .colab-df-convert {\n",
              "      background-color: #3B4455;\n",
              "      fill: #D2E3FC;\n",
              "    }\n",
              "\n",
              "    [theme=dark] .colab-df-convert:hover {\n",
              "      background-color: #434B5C;\n",
              "      box-shadow: 0px 1px 3px 1px rgba(0, 0, 0, 0.15);\n",
              "      filter: drop-shadow(0px 1px 2px rgba(0, 0, 0, 0.3));\n",
              "      fill: #FFFFFF;\n",
              "    }\n",
              "  </style>\n",
              "\n",
              "    <script>\n",
              "      const buttonEl =\n",
              "        document.querySelector('#df-15076d8a-a782-44fa-99c6-1d1ea2c35f70 button.colab-df-convert');\n",
              "      buttonEl.style.display =\n",
              "        google.colab.kernel.accessAllowed ? 'block' : 'none';\n",
              "\n",
              "      async function convertToInteractive(key) {\n",
              "        const element = document.querySelector('#df-15076d8a-a782-44fa-99c6-1d1ea2c35f70');\n",
              "        const dataTable =\n",
              "          await google.colab.kernel.invokeFunction('convertToInteractive',\n",
              "                                                    [key], {});\n",
              "        if (!dataTable) return;\n",
              "\n",
              "        const docLinkHtml = 'Like what you see? Visit the ' +\n",
              "          '<a target=\"_blank\" href=https://colab.research.google.com/notebooks/data_table.ipynb>data table notebook</a>'\n",
              "          + ' to learn more about interactive tables.';\n",
              "        element.innerHTML = '';\n",
              "        dataTable['output_type'] = 'display_data';\n",
              "        await google.colab.output.renderOutput(dataTable, element);\n",
              "        const docLink = document.createElement('div');\n",
              "        docLink.innerHTML = docLinkHtml;\n",
              "        element.appendChild(docLink);\n",
              "      }\n",
              "    </script>\n",
              "  </div>\n",
              "\n",
              "\n",
              "<div id=\"df-48aeec5a-fd8d-4060-a8ae-96310b54dc28\">\n",
              "  <button class=\"colab-df-quickchart\" onclick=\"quickchart('df-48aeec5a-fd8d-4060-a8ae-96310b54dc28')\"\n",
              "            title=\"Suggest charts\"\n",
              "            style=\"display:none;\">\n",
              "\n",
              "<svg xmlns=\"http://www.w3.org/2000/svg\" height=\"24px\"viewBox=\"0 0 24 24\"\n",
              "     width=\"24px\">\n",
              "    <g>\n",
              "        <path d=\"M19 3H5c-1.1 0-2 .9-2 2v14c0 1.1.9 2 2 2h14c1.1 0 2-.9 2-2V5c0-1.1-.9-2-2-2zM9 17H7v-7h2v7zm4 0h-2V7h2v10zm4 0h-2v-4h2v4z\"/>\n",
              "    </g>\n",
              "</svg>\n",
              "  </button>\n",
              "\n",
              "<style>\n",
              "  .colab-df-quickchart {\n",
              "      --bg-color: #E8F0FE;\n",
              "      --fill-color: #1967D2;\n",
              "      --hover-bg-color: #E2EBFA;\n",
              "      --hover-fill-color: #174EA6;\n",
              "      --disabled-fill-color: #AAA;\n",
              "      --disabled-bg-color: #DDD;\n",
              "  }\n",
              "\n",
              "  [theme=dark] .colab-df-quickchart {\n",
              "      --bg-color: #3B4455;\n",
              "      --fill-color: #D2E3FC;\n",
              "      --hover-bg-color: #434B5C;\n",
              "      --hover-fill-color: #FFFFFF;\n",
              "      --disabled-bg-color: #3B4455;\n",
              "      --disabled-fill-color: #666;\n",
              "  }\n",
              "\n",
              "  .colab-df-quickchart {\n",
              "    background-color: var(--bg-color);\n",
              "    border: none;\n",
              "    border-radius: 50%;\n",
              "    cursor: pointer;\n",
              "    display: none;\n",
              "    fill: var(--fill-color);\n",
              "    height: 32px;\n",
              "    padding: 0;\n",
              "    width: 32px;\n",
              "  }\n",
              "\n",
              "  .colab-df-quickchart:hover {\n",
              "    background-color: var(--hover-bg-color);\n",
              "    box-shadow: 0 1px 2px rgba(60, 64, 67, 0.3), 0 1px 3px 1px rgba(60, 64, 67, 0.15);\n",
              "    fill: var(--button-hover-fill-color);\n",
              "  }\n",
              "\n",
              "  .colab-df-quickchart-complete:disabled,\n",
              "  .colab-df-quickchart-complete:disabled:hover {\n",
              "    background-color: var(--disabled-bg-color);\n",
              "    fill: var(--disabled-fill-color);\n",
              "    box-shadow: none;\n",
              "  }\n",
              "\n",
              "  .colab-df-spinner {\n",
              "    border: 2px solid var(--fill-color);\n",
              "    border-color: transparent;\n",
              "    border-bottom-color: var(--fill-color);\n",
              "    animation:\n",
              "      spin 1s steps(1) infinite;\n",
              "  }\n",
              "\n",
              "  @keyframes spin {\n",
              "    0% {\n",
              "      border-color: transparent;\n",
              "      border-bottom-color: var(--fill-color);\n",
              "      border-left-color: var(--fill-color);\n",
              "    }\n",
              "    20% {\n",
              "      border-color: transparent;\n",
              "      border-left-color: var(--fill-color);\n",
              "      border-top-color: var(--fill-color);\n",
              "    }\n",
              "    30% {\n",
              "      border-color: transparent;\n",
              "      border-left-color: var(--fill-color);\n",
              "      border-top-color: var(--fill-color);\n",
              "      border-right-color: var(--fill-color);\n",
              "    }\n",
              "    40% {\n",
              "      border-color: transparent;\n",
              "      border-right-color: var(--fill-color);\n",
              "      border-top-color: var(--fill-color);\n",
              "    }\n",
              "    60% {\n",
              "      border-color: transparent;\n",
              "      border-right-color: var(--fill-color);\n",
              "    }\n",
              "    80% {\n",
              "      border-color: transparent;\n",
              "      border-right-color: var(--fill-color);\n",
              "      border-bottom-color: var(--fill-color);\n",
              "    }\n",
              "    90% {\n",
              "      border-color: transparent;\n",
              "      border-bottom-color: var(--fill-color);\n",
              "    }\n",
              "  }\n",
              "</style>\n",
              "\n",
              "  <script>\n",
              "    async function quickchart(key) {\n",
              "      const quickchartButtonEl =\n",
              "        document.querySelector('#' + key + ' button');\n",
              "      quickchartButtonEl.disabled = true;  // To prevent multiple clicks.\n",
              "      quickchartButtonEl.classList.add('colab-df-spinner');\n",
              "      try {\n",
              "        const charts = await google.colab.kernel.invokeFunction(\n",
              "            'suggestCharts', [key], {});\n",
              "      } catch (error) {\n",
              "        console.error('Error during call to suggestCharts:', error);\n",
              "      }\n",
              "      quickchartButtonEl.classList.remove('colab-df-spinner');\n",
              "      quickchartButtonEl.classList.add('colab-df-quickchart-complete');\n",
              "    }\n",
              "    (() => {\n",
              "      let quickchartButtonEl =\n",
              "        document.querySelector('#df-48aeec5a-fd8d-4060-a8ae-96310b54dc28 button');\n",
              "      quickchartButtonEl.style.display =\n",
              "        google.colab.kernel.accessAllowed ? 'block' : 'none';\n",
              "    })();\n",
              "  </script>\n",
              "</div>\n",
              "\n",
              "    </div>\n",
              "  </div>\n"
            ]
          },
          "metadata": {},
          "execution_count": 21
        }
      ],
      "source": [
        "data.tail()"
      ]
    },
    {
      "cell_type": "markdown",
      "id": "prepared-clause",
      "metadata": {
        "id": "prepared-clause"
      },
      "source": [
        "### Understand the shape of the dataset"
      ]
    },
    {
      "cell_type": "code",
      "execution_count": null,
      "id": "likely-scene",
      "metadata": {
        "id": "likely-scene",
        "colab": {
          "base_uri": "https://localhost:8080/"
        },
        "outputId": "f6232794-37bd-4635-9227-6e1c12927ca0"
      },
      "outputs": [
        {
          "output_type": "execute_result",
          "data": {
            "text/plain": [
              "(4612, 15)"
            ]
          },
          "metadata": {},
          "execution_count": 8
        }
      ],
      "source": [
        "data.shape"
      ]
    },
    {
      "cell_type": "markdown",
      "id": "creative-warner",
      "metadata": {
        "id": "creative-warner"
      },
      "source": [
        "### Check the data types of the columns for the dataset"
      ]
    },
    {
      "cell_type": "code",
      "execution_count": null,
      "id": "expanded-technique",
      "metadata": {
        "id": "expanded-technique",
        "colab": {
          "base_uri": "https://localhost:8080/"
        },
        "outputId": "3d7e24e3-e079-4ec1-d3d9-53ab98a14b07"
      },
      "outputs": [
        {
          "output_type": "stream",
          "name": "stdout",
          "text": [
            "<class 'pandas.core.frame.DataFrame'>\n",
            "RangeIndex: 4612 entries, 0 to 4611\n",
            "Data columns (total 15 columns):\n",
            " #   Column                 Non-Null Count  Dtype  \n",
            "---  ------                 --------------  -----  \n",
            " 0   ID                     4612 non-null   object \n",
            " 1   age                    4612 non-null   int64  \n",
            " 2   current_occupation     4612 non-null   object \n",
            " 3   first_interaction      4612 non-null   object \n",
            " 4   profile_completed      4612 non-null   object \n",
            " 5   website_visits         4612 non-null   int64  \n",
            " 6   time_spent_on_website  4612 non-null   int64  \n",
            " 7   page_views_per_visit   4612 non-null   float64\n",
            " 8   last_activity          4612 non-null   object \n",
            " 9   print_media_type1      4612 non-null   object \n",
            " 10  print_media_type2      4612 non-null   object \n",
            " 11  digital_media          4612 non-null   object \n",
            " 12  educational_channels   4612 non-null   object \n",
            " 13  referral               4612 non-null   object \n",
            " 14  status                 4612 non-null   int64  \n",
            "dtypes: float64(1), int64(4), object(10)\n",
            "memory usage: 540.6+ KB\n"
          ]
        }
      ],
      "source": [
        "data.info()"
      ]
    },
    {
      "cell_type": "code",
      "execution_count": null,
      "id": "greenhouse-vertical",
      "metadata": {
        "id": "greenhouse-vertical",
        "colab": {
          "base_uri": "https://localhost:8080/"
        },
        "outputId": "96b1dbee-4ebe-4026-cbaf-cfa778155c68"
      },
      "outputs": [
        {
          "output_type": "stream",
          "name": "stdout",
          "text": [
            "<class 'pandas.core.frame.DataFrame'>\n",
            "Int64Index: 0 entries\n",
            "Data columns (total 15 columns):\n",
            " #   Column                 Non-Null Count  Dtype  \n",
            "---  ------                 --------------  -----  \n",
            " 0   ID                     0 non-null      object \n",
            " 1   age                    0 non-null      int64  \n",
            " 2   current_occupation     0 non-null      object \n",
            " 3   first_interaction      0 non-null      object \n",
            " 4   profile_completed      0 non-null      object \n",
            " 5   website_visits         0 non-null      int64  \n",
            " 6   time_spent_on_website  0 non-null      int64  \n",
            " 7   page_views_per_visit   0 non-null      float64\n",
            " 8   last_activity          0 non-null      object \n",
            " 9   print_media_type1      0 non-null      object \n",
            " 10  print_media_type2      0 non-null      object \n",
            " 11  digital_media          0 non-null      object \n",
            " 12  educational_channels   0 non-null      object \n",
            " 13  referral               0 non-null      object \n",
            " 14  status                 0 non-null      int64  \n",
            "dtypes: float64(1), int64(4), object(10)\n",
            "memory usage: 0.0+ bytes\n",
            "None\n",
            "ID                       4612\n",
            "age                        46\n",
            "current_occupation          3\n",
            "first_interaction           2\n",
            "profile_completed           3\n",
            "website_visits             27\n",
            "time_spent_on_website    1623\n",
            "page_views_per_visit     2414\n",
            "last_activity               3\n",
            "print_media_type1           2\n",
            "print_media_type2           2\n",
            "digital_media               2\n",
            "educational_channels        2\n",
            "referral                    2\n",
            "status                      2\n",
            "dtype: int64\n"
          ]
        }
      ],
      "source": [
        "# checking for duplicate values\n",
        "print(data[data.duplicated()].info())\n",
        "\n",
        "print(data.nunique())"
      ]
    },
    {
      "cell_type": "markdown",
      "id": "realistic-mortgage",
      "metadata": {
        "id": "realistic-mortgage"
      },
      "source": [
        "## Exploratory Data Analysis"
      ]
    },
    {
      "cell_type": "markdown",
      "id": "seeing-newman",
      "metadata": {
        "id": "seeing-newman"
      },
      "source": [
        "**Let's check the statistical summary of the data.**"
      ]
    },
    {
      "cell_type": "code",
      "execution_count": null,
      "id": "backed-solution",
      "metadata": {
        "id": "backed-solution",
        "colab": {
          "base_uri": "https://localhost:8080/",
          "height": 206
        },
        "outputId": "3b0327cd-c2d5-422f-95cc-51721448395f"
      },
      "outputs": [
        {
          "output_type": "execute_result",
          "data": {
            "text/plain": [
              "                           count      mean       std      min       25%  \\\n",
              "age                   4612.00000  46.20121  13.16145 18.00000  36.00000   \n",
              "website_visits        4612.00000   3.56678   2.82913  0.00000   2.00000   \n",
              "time_spent_on_website 4612.00000 724.01127 743.82868  0.00000 148.75000   \n",
              "page_views_per_visit  4612.00000   3.02613   1.96812  0.00000   2.07775   \n",
              "status                4612.00000   0.29857   0.45768  0.00000   0.00000   \n",
              "\n",
              "                            50%        75%        max  \n",
              "age                    51.00000   57.00000   63.00000  \n",
              "website_visits          3.00000    5.00000   30.00000  \n",
              "time_spent_on_website 376.00000 1336.75000 2537.00000  \n",
              "page_views_per_visit    2.79200    3.75625   18.43400  \n",
              "status                  0.00000    1.00000    1.00000  "
            ],
            "text/html": [
              "\n",
              "  <div id=\"df-27ec63e0-cc51-4591-baf5-21688728dd91\" class=\"colab-df-container\">\n",
              "    <div>\n",
              "<style scoped>\n",
              "    .dataframe tbody tr th:only-of-type {\n",
              "        vertical-align: middle;\n",
              "    }\n",
              "\n",
              "    .dataframe tbody tr th {\n",
              "        vertical-align: top;\n",
              "    }\n",
              "\n",
              "    .dataframe thead th {\n",
              "        text-align: right;\n",
              "    }\n",
              "</style>\n",
              "<table border=\"1\" class=\"dataframe\">\n",
              "  <thead>\n",
              "    <tr style=\"text-align: right;\">\n",
              "      <th></th>\n",
              "      <th>count</th>\n",
              "      <th>mean</th>\n",
              "      <th>std</th>\n",
              "      <th>min</th>\n",
              "      <th>25%</th>\n",
              "      <th>50%</th>\n",
              "      <th>75%</th>\n",
              "      <th>max</th>\n",
              "    </tr>\n",
              "  </thead>\n",
              "  <tbody>\n",
              "    <tr>\n",
              "      <th>age</th>\n",
              "      <td>4612.00000</td>\n",
              "      <td>46.20121</td>\n",
              "      <td>13.16145</td>\n",
              "      <td>18.00000</td>\n",
              "      <td>36.00000</td>\n",
              "      <td>51.00000</td>\n",
              "      <td>57.00000</td>\n",
              "      <td>63.00000</td>\n",
              "    </tr>\n",
              "    <tr>\n",
              "      <th>website_visits</th>\n",
              "      <td>4612.00000</td>\n",
              "      <td>3.56678</td>\n",
              "      <td>2.82913</td>\n",
              "      <td>0.00000</td>\n",
              "      <td>2.00000</td>\n",
              "      <td>3.00000</td>\n",
              "      <td>5.00000</td>\n",
              "      <td>30.00000</td>\n",
              "    </tr>\n",
              "    <tr>\n",
              "      <th>time_spent_on_website</th>\n",
              "      <td>4612.00000</td>\n",
              "      <td>724.01127</td>\n",
              "      <td>743.82868</td>\n",
              "      <td>0.00000</td>\n",
              "      <td>148.75000</td>\n",
              "      <td>376.00000</td>\n",
              "      <td>1336.75000</td>\n",
              "      <td>2537.00000</td>\n",
              "    </tr>\n",
              "    <tr>\n",
              "      <th>page_views_per_visit</th>\n",
              "      <td>4612.00000</td>\n",
              "      <td>3.02613</td>\n",
              "      <td>1.96812</td>\n",
              "      <td>0.00000</td>\n",
              "      <td>2.07775</td>\n",
              "      <td>2.79200</td>\n",
              "      <td>3.75625</td>\n",
              "      <td>18.43400</td>\n",
              "    </tr>\n",
              "    <tr>\n",
              "      <th>status</th>\n",
              "      <td>4612.00000</td>\n",
              "      <td>0.29857</td>\n",
              "      <td>0.45768</td>\n",
              "      <td>0.00000</td>\n",
              "      <td>0.00000</td>\n",
              "      <td>0.00000</td>\n",
              "      <td>1.00000</td>\n",
              "      <td>1.00000</td>\n",
              "    </tr>\n",
              "  </tbody>\n",
              "</table>\n",
              "</div>\n",
              "    <div class=\"colab-df-buttons\">\n",
              "\n",
              "  <div class=\"colab-df-container\">\n",
              "    <button class=\"colab-df-convert\" onclick=\"convertToInteractive('df-27ec63e0-cc51-4591-baf5-21688728dd91')\"\n",
              "            title=\"Convert this dataframe to an interactive table.\"\n",
              "            style=\"display:none;\">\n",
              "\n",
              "  <svg xmlns=\"http://www.w3.org/2000/svg\" height=\"24px\" viewBox=\"0 -960 960 960\">\n",
              "    <path d=\"M120-120v-720h720v720H120Zm60-500h600v-160H180v160Zm220 220h160v-160H400v160Zm0 220h160v-160H400v160ZM180-400h160v-160H180v160Zm440 0h160v-160H620v160ZM180-180h160v-160H180v160Zm440 0h160v-160H620v160Z\"/>\n",
              "  </svg>\n",
              "    </button>\n",
              "\n",
              "  <style>\n",
              "    .colab-df-container {\n",
              "      display:flex;\n",
              "      gap: 12px;\n",
              "    }\n",
              "\n",
              "    .colab-df-convert {\n",
              "      background-color: #E8F0FE;\n",
              "      border: none;\n",
              "      border-radius: 50%;\n",
              "      cursor: pointer;\n",
              "      display: none;\n",
              "      fill: #1967D2;\n",
              "      height: 32px;\n",
              "      padding: 0 0 0 0;\n",
              "      width: 32px;\n",
              "    }\n",
              "\n",
              "    .colab-df-convert:hover {\n",
              "      background-color: #E2EBFA;\n",
              "      box-shadow: 0px 1px 2px rgba(60, 64, 67, 0.3), 0px 1px 3px 1px rgba(60, 64, 67, 0.15);\n",
              "      fill: #174EA6;\n",
              "    }\n",
              "\n",
              "    .colab-df-buttons div {\n",
              "      margin-bottom: 4px;\n",
              "    }\n",
              "\n",
              "    [theme=dark] .colab-df-convert {\n",
              "      background-color: #3B4455;\n",
              "      fill: #D2E3FC;\n",
              "    }\n",
              "\n",
              "    [theme=dark] .colab-df-convert:hover {\n",
              "      background-color: #434B5C;\n",
              "      box-shadow: 0px 1px 3px 1px rgba(0, 0, 0, 0.15);\n",
              "      filter: drop-shadow(0px 1px 2px rgba(0, 0, 0, 0.3));\n",
              "      fill: #FFFFFF;\n",
              "    }\n",
              "  </style>\n",
              "\n",
              "    <script>\n",
              "      const buttonEl =\n",
              "        document.querySelector('#df-27ec63e0-cc51-4591-baf5-21688728dd91 button.colab-df-convert');\n",
              "      buttonEl.style.display =\n",
              "        google.colab.kernel.accessAllowed ? 'block' : 'none';\n",
              "\n",
              "      async function convertToInteractive(key) {\n",
              "        const element = document.querySelector('#df-27ec63e0-cc51-4591-baf5-21688728dd91');\n",
              "        const dataTable =\n",
              "          await google.colab.kernel.invokeFunction('convertToInteractive',\n",
              "                                                    [key], {});\n",
              "        if (!dataTable) return;\n",
              "\n",
              "        const docLinkHtml = 'Like what you see? Visit the ' +\n",
              "          '<a target=\"_blank\" href=https://colab.research.google.com/notebooks/data_table.ipynb>data table notebook</a>'\n",
              "          + ' to learn more about interactive tables.';\n",
              "        element.innerHTML = '';\n",
              "        dataTable['output_type'] = 'display_data';\n",
              "        await google.colab.output.renderOutput(dataTable, element);\n",
              "        const docLink = document.createElement('div');\n",
              "        docLink.innerHTML = docLinkHtml;\n",
              "        element.appendChild(docLink);\n",
              "      }\n",
              "    </script>\n",
              "  </div>\n",
              "\n",
              "\n",
              "<div id=\"df-5b63437e-a840-4a6c-b203-a94eee088222\">\n",
              "  <button class=\"colab-df-quickchart\" onclick=\"quickchart('df-5b63437e-a840-4a6c-b203-a94eee088222')\"\n",
              "            title=\"Suggest charts\"\n",
              "            style=\"display:none;\">\n",
              "\n",
              "<svg xmlns=\"http://www.w3.org/2000/svg\" height=\"24px\"viewBox=\"0 0 24 24\"\n",
              "     width=\"24px\">\n",
              "    <g>\n",
              "        <path d=\"M19 3H5c-1.1 0-2 .9-2 2v14c0 1.1.9 2 2 2h14c1.1 0 2-.9 2-2V5c0-1.1-.9-2-2-2zM9 17H7v-7h2v7zm4 0h-2V7h2v10zm4 0h-2v-4h2v4z\"/>\n",
              "    </g>\n",
              "</svg>\n",
              "  </button>\n",
              "\n",
              "<style>\n",
              "  .colab-df-quickchart {\n",
              "      --bg-color: #E8F0FE;\n",
              "      --fill-color: #1967D2;\n",
              "      --hover-bg-color: #E2EBFA;\n",
              "      --hover-fill-color: #174EA6;\n",
              "      --disabled-fill-color: #AAA;\n",
              "      --disabled-bg-color: #DDD;\n",
              "  }\n",
              "\n",
              "  [theme=dark] .colab-df-quickchart {\n",
              "      --bg-color: #3B4455;\n",
              "      --fill-color: #D2E3FC;\n",
              "      --hover-bg-color: #434B5C;\n",
              "      --hover-fill-color: #FFFFFF;\n",
              "      --disabled-bg-color: #3B4455;\n",
              "      --disabled-fill-color: #666;\n",
              "  }\n",
              "\n",
              "  .colab-df-quickchart {\n",
              "    background-color: var(--bg-color);\n",
              "    border: none;\n",
              "    border-radius: 50%;\n",
              "    cursor: pointer;\n",
              "    display: none;\n",
              "    fill: var(--fill-color);\n",
              "    height: 32px;\n",
              "    padding: 0;\n",
              "    width: 32px;\n",
              "  }\n",
              "\n",
              "  .colab-df-quickchart:hover {\n",
              "    background-color: var(--hover-bg-color);\n",
              "    box-shadow: 0 1px 2px rgba(60, 64, 67, 0.3), 0 1px 3px 1px rgba(60, 64, 67, 0.15);\n",
              "    fill: var(--button-hover-fill-color);\n",
              "  }\n",
              "\n",
              "  .colab-df-quickchart-complete:disabled,\n",
              "  .colab-df-quickchart-complete:disabled:hover {\n",
              "    background-color: var(--disabled-bg-color);\n",
              "    fill: var(--disabled-fill-color);\n",
              "    box-shadow: none;\n",
              "  }\n",
              "\n",
              "  .colab-df-spinner {\n",
              "    border: 2px solid var(--fill-color);\n",
              "    border-color: transparent;\n",
              "    border-bottom-color: var(--fill-color);\n",
              "    animation:\n",
              "      spin 1s steps(1) infinite;\n",
              "  }\n",
              "\n",
              "  @keyframes spin {\n",
              "    0% {\n",
              "      border-color: transparent;\n",
              "      border-bottom-color: var(--fill-color);\n",
              "      border-left-color: var(--fill-color);\n",
              "    }\n",
              "    20% {\n",
              "      border-color: transparent;\n",
              "      border-left-color: var(--fill-color);\n",
              "      border-top-color: var(--fill-color);\n",
              "    }\n",
              "    30% {\n",
              "      border-color: transparent;\n",
              "      border-left-color: var(--fill-color);\n",
              "      border-top-color: var(--fill-color);\n",
              "      border-right-color: var(--fill-color);\n",
              "    }\n",
              "    40% {\n",
              "      border-color: transparent;\n",
              "      border-right-color: var(--fill-color);\n",
              "      border-top-color: var(--fill-color);\n",
              "    }\n",
              "    60% {\n",
              "      border-color: transparent;\n",
              "      border-right-color: var(--fill-color);\n",
              "    }\n",
              "    80% {\n",
              "      border-color: transparent;\n",
              "      border-right-color: var(--fill-color);\n",
              "      border-bottom-color: var(--fill-color);\n",
              "    }\n",
              "    90% {\n",
              "      border-color: transparent;\n",
              "      border-bottom-color: var(--fill-color);\n",
              "    }\n",
              "  }\n",
              "</style>\n",
              "\n",
              "  <script>\n",
              "    async function quickchart(key) {\n",
              "      const quickchartButtonEl =\n",
              "        document.querySelector('#' + key + ' button');\n",
              "      quickchartButtonEl.disabled = true;  // To prevent multiple clicks.\n",
              "      quickchartButtonEl.classList.add('colab-df-spinner');\n",
              "      try {\n",
              "        const charts = await google.colab.kernel.invokeFunction(\n",
              "            'suggestCharts', [key], {});\n",
              "      } catch (error) {\n",
              "        console.error('Error during call to suggestCharts:', error);\n",
              "      }\n",
              "      quickchartButtonEl.classList.remove('colab-df-spinner');\n",
              "      quickchartButtonEl.classList.add('colab-df-quickchart-complete');\n",
              "    }\n",
              "    (() => {\n",
              "      let quickchartButtonEl =\n",
              "        document.querySelector('#df-5b63437e-a840-4a6c-b203-a94eee088222 button');\n",
              "      quickchartButtonEl.style.display =\n",
              "        google.colab.kernel.accessAllowed ? 'block' : 'none';\n",
              "    })();\n",
              "  </script>\n",
              "</div>\n",
              "\n",
              "    </div>\n",
              "  </div>\n"
            ]
          },
          "metadata": {},
          "execution_count": 24
        }
      ],
      "source": [
        "data.describe().T"
      ]
    },
    {
      "cell_type": "code",
      "execution_count": null,
      "id": "cultural-plaza",
      "metadata": {
        "id": "cultural-plaza",
        "colab": {
          "base_uri": "https://localhost:8080/"
        },
        "outputId": "86b968b4-debf-4962-8a05-60392744befb"
      },
      "outputs": [
        {
          "output_type": "stream",
          "name": "stdout",
          "text": [
            "EXT001     1\n",
            "EXT2884    1\n",
            "EXT3080    1\n",
            "EXT3079    1\n",
            "EXT3078    1\n",
            "          ..\n",
            "EXT1537    1\n",
            "EXT1536    1\n",
            "EXT1535    1\n",
            "EXT1534    1\n",
            "EXT4612    1\n",
            "Name: ID, Length: 4612, dtype: int64\n",
            "--------------------------------------------------\n",
            "Professional    2616\n",
            "Unemployed      1441\n",
            "Student          555\n",
            "Name: current_occupation, dtype: int64\n",
            "--------------------------------------------------\n",
            "Website       2542\n",
            "Mobile App    2070\n",
            "Name: first_interaction, dtype: int64\n",
            "--------------------------------------------------\n",
            "High      2264\n",
            "Medium    2241\n",
            "Low        107\n",
            "Name: profile_completed, dtype: int64\n",
            "--------------------------------------------------\n",
            "Email Activity      2278\n",
            "Phone Activity      1234\n",
            "Website Activity    1100\n",
            "Name: last_activity, dtype: int64\n",
            "--------------------------------------------------\n",
            "No     4115\n",
            "Yes     497\n",
            "Name: print_media_type1, dtype: int64\n",
            "--------------------------------------------------\n",
            "No     4379\n",
            "Yes     233\n",
            "Name: print_media_type2, dtype: int64\n",
            "--------------------------------------------------\n",
            "No     4085\n",
            "Yes     527\n",
            "Name: digital_media, dtype: int64\n",
            "--------------------------------------------------\n",
            "No     3907\n",
            "Yes     705\n",
            "Name: educational_channels, dtype: int64\n",
            "--------------------------------------------------\n",
            "No     4519\n",
            "Yes      93\n",
            "Name: referral, dtype: int64\n",
            "--------------------------------------------------\n"
          ]
        }
      ],
      "source": [
        "# Making a list of all catrgorical variables\n",
        "cat_col = list(data.select_dtypes(\"object\").columns)\n",
        "\n",
        "# Printing number of count of each unique value in each column\n",
        "for column in cat_col:\n",
        "    print(data[column].value_counts())\n",
        "    print(\"-\" * 50)"
      ]
    },
    {
      "cell_type": "code",
      "execution_count": null,
      "id": "victorian-chuck",
      "metadata": {
        "id": "victorian-chuck",
        "colab": {
          "base_uri": "https://localhost:8080/"
        },
        "outputId": "70650781-a5ee-4e9b-9f04-61a93ddc01f0"
      },
      "outputs": [
        {
          "output_type": "execute_result",
          "data": {
            "text/plain": [
              "4612"
            ]
          },
          "metadata": {},
          "execution_count": 26
        }
      ],
      "source": [
        "# checking the number of unique values\n",
        "data[\"ID\"].nunique()"
      ]
    },
    {
      "cell_type": "code",
      "execution_count": null,
      "id": "comprehensive-heavy",
      "metadata": {
        "id": "comprehensive-heavy"
      },
      "outputs": [],
      "source": [
        "# Drop \"ID\" column from data\n",
        "data.drop([\"ID\"], axis = 1, inplace = True)"
      ]
    },
    {
      "cell_type": "code",
      "source": [
        "data.info()"
      ],
      "metadata": {
        "colab": {
          "base_uri": "https://localhost:8080/"
        },
        "id": "vqHBqNMCquQW",
        "outputId": "323ce3a3-c104-4682-8850-286b005dbef9"
      },
      "id": "vqHBqNMCquQW",
      "execution_count": null,
      "outputs": [
        {
          "output_type": "stream",
          "name": "stdout",
          "text": [
            "<class 'pandas.core.frame.DataFrame'>\n",
            "RangeIndex: 4612 entries, 0 to 4611\n",
            "Data columns (total 14 columns):\n",
            " #   Column                 Non-Null Count  Dtype  \n",
            "---  ------                 --------------  -----  \n",
            " 0   age                    4612 non-null   int64  \n",
            " 1   current_occupation     4612 non-null   object \n",
            " 2   first_interaction      4612 non-null   object \n",
            " 3   profile_completed      4612 non-null   object \n",
            " 4   website_visits         4612 non-null   int64  \n",
            " 5   time_spent_on_website  4612 non-null   int64  \n",
            " 6   page_views_per_visit   4612 non-null   float64\n",
            " 7   last_activity          4612 non-null   object \n",
            " 8   print_media_type1      4612 non-null   object \n",
            " 9   print_media_type2      4612 non-null   object \n",
            " 10  digital_media          4612 non-null   object \n",
            " 11  educational_channels   4612 non-null   object \n",
            " 12  referral               4612 non-null   object \n",
            " 13  status                 4612 non-null   int64  \n",
            "dtypes: float64(1), int64(4), object(9)\n",
            "memory usage: 504.6+ KB\n"
          ]
        }
      ]
    },
    {
      "cell_type": "markdown",
      "id": "arbitrary-intelligence",
      "metadata": {
        "id": "arbitrary-intelligence"
      },
      "source": [
        "### Univariate Analysis"
      ]
    },
    {
      "cell_type": "code",
      "execution_count": null,
      "id": "several-cheese",
      "metadata": {
        "id": "several-cheese"
      },
      "outputs": [],
      "source": [
        "# function to plot a boxplot and a histogram along the same scale.\n",
        "\n",
        "\n",
        "def histogram_boxplot(data, feature, figsize=(12, 7), kde=False, bins=None):\n",
        "    \"\"\"\n",
        "    Boxplot and histogram combined\n",
        "\n",
        "    data: dataframe\n",
        "    feature: dataframe column\n",
        "    figsize: size of figure (default (12,7))\n",
        "    kde: whether to the show density curve (default False)\n",
        "    bins: number of bins for histogram (default None)\n",
        "    \"\"\"\n",
        "    f2, (ax_box2, ax_hist2) = plt.subplots(\n",
        "        nrows=2,  # Number of rows of the subplot grid= 2\n",
        "        sharex=True,  # x-axis will be shared among all subplots\n",
        "        gridspec_kw={\"height_ratios\": (0.25, 0.75)},\n",
        "        figsize=figsize,\n",
        "    )  # creating the 2 subplots\n",
        "    sns.boxplot(\n",
        "        data=data, x=feature, ax=ax_box2, showmeans=True, color=\"violet\"\n",
        "    )  # boxplot will be created and a star will indicate the mean value of the column\n",
        "    sns.histplot(\n",
        "        data=data, x=feature, kde=kde, ax=ax_hist2, bins=bins, palette=\"winter\"\n",
        "    ) if bins else sns.histplot(\n",
        "        data=data, x=feature, kde=kde, ax=ax_hist2\n",
        "    )  # For histogram\n",
        "    ax_hist2.axvline(\n",
        "        data[feature].mean(), color=\"green\", linestyle=\"--\"\n",
        "    )  # Add mean to the histogram\n",
        "    ax_hist2.axvline(\n",
        "        data[feature].median(), color=\"black\", linestyle=\"-\"\n",
        "    )  # Add median to the histogram"
      ]
    },
    {
      "cell_type": "markdown",
      "id": "western-elevation",
      "metadata": {
        "id": "western-elevation"
      },
      "source": [
        "### Observations on age"
      ]
    },
    {
      "cell_type": "code",
      "execution_count": null,
      "id": "italian-imagination",
      "metadata": {
        "id": "italian-imagination",
        "colab": {
          "base_uri": "https://localhost:8080/",
          "height": 619
        },
        "outputId": "f6257233-8873-4cee-dc00-59a56ea9b46e"
      },
      "outputs": [
        {
          "output_type": "display_data",
          "data": {
            "text/plain": [
              "<Figure size 1200x700 with 2 Axes>"
            ],
            "image/png": "[encoded data removed]"
          },
          "metadata": {}
        }
      ],
      "source": [
        "histogram_boxplot(data, \"age\")"
      ]
    },
    {
      "cell_type": "markdown",
      "id": "intimate-hearing",
      "metadata": {
        "id": "intimate-hearing"
      },
      "source": [
        "### Observations on website_visits"
      ]
    },
    {
      "cell_type": "code",
      "execution_count": null,
      "id": "liable-guess",
      "metadata": {
        "id": "liable-guess",
        "colab": {
          "base_uri": "https://localhost:8080/",
          "height": 619
        },
        "outputId": "e4411db1-01a1-455c-d91a-86ba3d3e7b9a"
      },
      "outputs": [
        {
          "output_type": "display_data",
          "data": {
            "text/plain": [
              "<Figure size 1200x700 with 2 Axes>"
            ],
            "image/png": "[encoded data removed]"
          },
          "metadata": {}
        }
      ],
      "source": [
        "# Plot a histogram_boxplot for website_visitsdrop \"ID\" column from data\n",
        "histogram_boxplot(data, 'website_visits')"
      ]
    },
    {
      "cell_type": "code",
      "execution_count": null,
      "id": "southern-organic",
      "metadata": {
        "id": "southern-organic",
        "colab": {
          "base_uri": "https://localhost:8080/"
        },
        "outputId": "6608356d-e534-406f-a075-9de705ddd73f"
      },
      "outputs": [
        {
          "output_type": "execute_result",
          "data": {
            "text/plain": [
              "(174, 14)"
            ]
          },
          "metadata": {},
          "execution_count": 36
        }
      ],
      "source": [
        "# To check how many leads have not visited web-site\n",
        "data[data[\"website_visits\"] == 0].shape"
      ]
    },
    {
      "cell_type": "markdown",
      "id": "studied-arrangement",
      "metadata": {
        "id": "studied-arrangement"
      },
      "source": [
        "### Observations on number of time_spent_on_website"
      ]
    },
    {
      "cell_type": "code",
      "execution_count": null,
      "id": "molecular-opposition",
      "metadata": {
        "id": "molecular-opposition",
        "colab": {
          "base_uri": "https://localhost:8080/",
          "height": 619
        },
        "outputId": "df7017a5-1bda-45a6-a34d-63e78b6b2127"
      },
      "outputs": [
        {
          "output_type": "display_data",
          "data": {
            "text/plain": [
              "<Figure size 1200x700 with 2 Axes>"
            ],
            "image/png": "[encoded data removed]"
          },
          "metadata": {}
        }
      ],
      "source": [
        "# Plot a histogram_boxplot for time_spent_on_website\n",
        "histogram_boxplot(data, 'time_spent_on_website')"
      ]
    },
    {
      "cell_type": "markdown",
      "id": "rough-contributor",
      "metadata": {
        "id": "rough-contributor"
      },
      "source": [
        "### Observations on number of page_views_per_visit"
      ]
    },
    {
      "cell_type": "code",
      "execution_count": null,
      "id": "laughing-bridge",
      "metadata": {
        "id": "laughing-bridge",
        "colab": {
          "base_uri": "https://localhost:8080/",
          "height": 619
        },
        "outputId": "974c0c60-e8f9-4dd3-9da3-fe6b57c58d52"
      },
      "outputs": [
        {
          "output_type": "display_data",
          "data": {
            "text/plain": [
              "<Figure size 1200x700 with 2 Axes>"
            ],
            "image/png": "[encoded data removed]"
          },
          "metadata": {}
        }
      ],
      "source": [
        "# Plot a histogram_boxplot for page_views_per_visit\n",
        "histogram_boxplot(data, 'page_views_per_visit')"
      ]
    },
    {
      "cell_type": "code",
      "execution_count": null,
      "id": "attended-grounds",
      "metadata": {
        "id": "attended-grounds"
      },
      "outputs": [],
      "source": [
        "# function to create labeled barplots\n",
        "\n",
        "\n",
        "def labeled_barplot(data, feature, perc=False, n=None):\n",
        "    \"\"\"\n",
        "    Barplot with percentage at the top\n",
        "\n",
        "    data: dataframe\n",
        "    feature: dataframe column\n",
        "    perc: whether to display percentages instead of count (default is False)\n",
        "    n: displays the top n category levels (default is None, i.e., display all levels)\n",
        "    \"\"\"\n",
        "\n",
        "    total = len(data[feature])  # length of the column\n",
        "    count = data[feature].nunique()\n",
        "    if n is None:\n",
        "        plt.figure(figsize=(count + 1, 5))\n",
        "    else:\n",
        "        plt.figure(figsize=(n + 1, 5))\n",
        "\n",
        "    plt.xticks(rotation=90, fontsize=15)\n",
        "    ax = sns.countplot(\n",
        "        data=data,\n",
        "        x=feature,\n",
        "        palette=\"Paired\",\n",
        "        order=data[feature].value_counts().index[:n].sort_values(),\n",
        "    )\n",
        "\n",
        "    for p in ax.patches:\n",
        "        if perc == True:\n",
        "            label = \"{:.1f}%\".format(\n",
        "                100 * p.get_height() / total\n",
        "            )  # percentage of each class of the category\n",
        "        else:\n",
        "            label = p.get_height()  # count of each level of the category\n",
        "\n",
        "        x = p.get_x() + p.get_width() / 2  # width of the plot\n",
        "        y = p.get_height()  # height of the plot\n",
        "\n",
        "        ax.annotate(\n",
        "            label,\n",
        "            (x, y),\n",
        "            ha=\"center\",\n",
        "            va=\"center\",\n",
        "            size=12,\n",
        "            xytext=(0, 5),\n",
        "            textcoords=\"offset points\",\n",
        "        )  # annotate the percentage\n",
        "\n",
        "    plt.show()  # show the plot"
      ]
    },
    {
      "cell_type": "markdown",
      "id": "industrial-implementation",
      "metadata": {
        "id": "industrial-implementation"
      },
      "source": [
        "### Observations on current_occupation"
      ]
    },
    {
      "cell_type": "code",
      "execution_count": null,
      "id": "israeli-sympathy",
      "metadata": {
        "id": "israeli-sympathy",
        "colab": {
          "base_uri": "https://localhost:8080/",
          "height": 583
        },
        "outputId": "bd987377-e7ac-4888-c1e5-a0e5461a4d49"
      },
      "outputs": [
        {
          "output_type": "display_data",
          "data": {
            "text/plain": [
              "<Figure size 400x500 with 1 Axes>"
            ],
            "image/png": "[encoded data removed]"
          },
          "metadata": {}
        }
      ],
      "source": [
        "labeled_barplot(data, \"current_occupation\", perc=True)"
      ]
    },
    {
      "cell_type": "code",
      "source": [
        "data.info()"
      ],
      "metadata": {
        "colab": {
          "base_uri": "https://localhost:8080/"
        },
        "id": "CDE0Q6Ox8mGN",
        "outputId": "11664723-71c8-4d00-bb74-45283bfd0f40"
      },
      "id": "CDE0Q6Ox8mGN",
      "execution_count": null,
      "outputs": [
        {
          "output_type": "stream",
          "name": "stdout",
          "text": [
            "<class 'pandas.core.frame.DataFrame'>\n",
            "RangeIndex: 4612 entries, 0 to 4611\n",
            "Data columns (total 14 columns):\n",
            " #   Column                 Non-Null Count  Dtype  \n",
            "---  ------                 --------------  -----  \n",
            " 0   age                    4612 non-null   int64  \n",
            " 1   current_occupation     4612 non-null   object \n",
            " 2   first_interaction      4612 non-null   object \n",
            " 3   profile_completed      4612 non-null   object \n",
            " 4   website_visits         4612 non-null   int64  \n",
            " 5   time_spent_on_website  4612 non-null   int64  \n",
            " 6   page_views_per_visit   4612 non-null   float64\n",
            " 7   last_activity          4612 non-null   object \n",
            " 8   print_media_type1      4612 non-null   object \n",
            " 9   print_media_type2      4612 non-null   object \n",
            " 10  digital_media          4612 non-null   object \n",
            " 11  educational_channels   4612 non-null   object \n",
            " 12  referral               4612 non-null   object \n",
            " 13  status                 4612 non-null   int64  \n",
            "dtypes: float64(1), int64(4), object(9)\n",
            "memory usage: 504.6+ KB\n"
          ]
        }
      ]
    },
    {
      "cell_type": "markdown",
      "id": "celtic-florist",
      "metadata": {
        "id": "celtic-florist"
      },
      "source": [
        "### Observations on number of first_interaction"
      ]
    },
    {
      "cell_type": "code",
      "execution_count": null,
      "id": "finite-kingston",
      "metadata": {
        "id": "finite-kingston",
        "colab": {
          "base_uri": "https://localhost:8080/",
          "height": 567
        },
        "outputId": "d9a6f43f-8b78-4efa-bdfb-54b3f23322d4"
      },
      "outputs": [
        {
          "output_type": "display_data",
          "data": {
            "text/plain": [
              "<Figure size 300x500 with 1 Axes>"
            ],
            "image/png": "[encoded data removed]"
          },
          "metadata": {}
        }
      ],
      "source": [
        "# Plot labeled_barplot for first_interaction\n",
        "labeled_barplot(data, 'first_interaction', perc = True)"
      ]
    },
    {
      "cell_type": "markdown",
      "id": "affiliated-accreditation",
      "metadata": {
        "id": "affiliated-accreditation"
      },
      "source": [
        "### Observations on profile_completed"
      ]
    },
    {
      "cell_type": "code",
      "execution_count": null,
      "id": "great-kitchen",
      "metadata": {
        "id": "great-kitchen",
        "colab": {
          "base_uri": "https://localhost:8080/",
          "height": 534
        },
        "outputId": "54e3f791-c31e-4769-b7e8-17429f0ea989"
      },
      "outputs": [
        {
          "output_type": "display_data",
          "data": {
            "text/plain": [
              "<Figure size 400x500 with 1 Axes>"
            ],
            "image/png": "[encoded data removed]"
          },
          "metadata": {}
        }
      ],
      "source": [
        "# Plot labeled_barplot for profile_completed\n",
        "labeled_barplot(data, 'profile_completed', perc = True)"
      ]
    },
    {
      "cell_type": "markdown",
      "id": "thermal-resource",
      "metadata": {
        "id": "thermal-resource"
      },
      "source": [
        "### Observations on last_activity"
      ]
    },
    {
      "cell_type": "code",
      "execution_count": null,
      "id": "bizarre-serbia",
      "metadata": {
        "id": "bizarre-serbia",
        "scrolled": false,
        "colab": {
          "base_uri": "https://localhost:8080/",
          "height": 619
        },
        "outputId": "4b2f0c21-5e81-488a-99a1-e127a69e862e"
      },
      "outputs": [
        {
          "output_type": "display_data",
          "data": {
            "text/plain": [
              "<Figure size 400x500 with 1 Axes>"
            ],
            "image/png": "[encoded data removed]"
          },
          "metadata": {}
        }
      ],
      "source": [
        "# Plot labeled_barplot for last_activity\n",
        "labeled_barplot(data, 'last_activity', perc = True)"
      ]
    },
    {
      "cell_type": "code",
      "source": [
        "data.info()"
      ],
      "metadata": {
        "colab": {
          "base_uri": "https://localhost:8080/"
        },
        "id": "22QZeILj-43k",
        "outputId": "6bdbc0af-7845-4dff-da87-9307028a9337"
      },
      "id": "22QZeILj-43k",
      "execution_count": null,
      "outputs": [
        {
          "output_type": "stream",
          "name": "stdout",
          "text": [
            "<class 'pandas.core.frame.DataFrame'>\n",
            "RangeIndex: 4612 entries, 0 to 4611\n",
            "Data columns (total 14 columns):\n",
            " #   Column                 Non-Null Count  Dtype  \n",
            "---  ------                 --------------  -----  \n",
            " 0   age                    4612 non-null   int64  \n",
            " 1   current_occupation     4612 non-null   object \n",
            " 2   first_interaction      4612 non-null   object \n",
            " 3   profile_completed      4612 non-null   object \n",
            " 4   website_visits         4612 non-null   int64  \n",
            " 5   time_spent_on_website  4612 non-null   int64  \n",
            " 6   page_views_per_visit   4612 non-null   float64\n",
            " 7   last_activity          4612 non-null   object \n",
            " 8   print_media_type1      4612 non-null   object \n",
            " 9   print_media_type2      4612 non-null   object \n",
            " 10  digital_media          4612 non-null   object \n",
            " 11  educational_channels   4612 non-null   object \n",
            " 12  referral               4612 non-null   object \n",
            " 13  status                 4612 non-null   int64  \n",
            "dtypes: float64(1), int64(4), object(9)\n",
            "memory usage: 504.6+ KB\n"
          ]
        }
      ]
    },
    {
      "cell_type": "markdown",
      "id": "greenhouse-regression",
      "metadata": {
        "id": "greenhouse-regression"
      },
      "source": [
        "### Observations on print_media_type1"
      ]
    },
    {
      "cell_type": "code",
      "execution_count": null,
      "id": "handy-talent",
      "metadata": {
        "id": "handy-talent",
        "colab": {
          "base_uri": "https://localhost:8080/",
          "height": 485
        },
        "outputId": "65af0780-bddb-499b-c9f5-8c2d95af625f"
      },
      "outputs": [
        {
          "output_type": "display_data",
          "data": {
            "text/plain": [
              "<Figure size 300x500 with 1 Axes>"
            ],
            "image/png": "[encoded data removed]"
          },
          "metadata": {}
        }
      ],
      "source": [
        "# Plot labeled_barplot for print_media_type1 - which is newspaper Ads.\n",
        "labeled_barplot(data, 'print_media_type1', perc = True)"
      ]
    },
    {
      "cell_type": "markdown",
      "id": "southeast-avenue",
      "metadata": {
        "id": "southeast-avenue"
      },
      "source": [
        "### Observations on print_media_type2"
      ]
    },
    {
      "cell_type": "code",
      "execution_count": null,
      "id": "retired-preliminary",
      "metadata": {
        "id": "retired-preliminary",
        "colab": {
          "base_uri": "https://localhost:8080/",
          "height": 485
        },
        "outputId": "677c1275-7981-4f75-c79c-28185f790d10"
      },
      "outputs": [
        {
          "output_type": "display_data",
          "data": {
            "text/plain": [
              "<Figure size 300x500 with 1 Axes>"
            ],
            "image/png": "[encoded data removed]"
          },
          "metadata": {}
        }
      ],
      "source": [
        "# Plot labeled_barplot for print_media_type2 - Which is Magazine Ads.\n",
        "labeled_barplot(data, 'print_media_type2', perc = True)"
      ]
    },
    {
      "cell_type": "markdown",
      "id": "competitive-brass",
      "metadata": {
        "id": "competitive-brass"
      },
      "source": [
        "### Observations on digital_media"
      ]
    },
    {
      "cell_type": "code",
      "execution_count": null,
      "id": "cordless-assurance",
      "metadata": {
        "id": "cordless-assurance",
        "colab": {
          "base_uri": "https://localhost:8080/",
          "height": 485
        },
        "outputId": "a5a56030-23d5-4e74-a7ef-7e18ff1eaedd"
      },
      "outputs": [
        {
          "output_type": "display_data",
          "data": {
            "text/plain": [
              "<Figure size 300x500 with 1 Axes>"
            ],
            "image/png": "[encoded data removed]"
          },
          "metadata": {}
        }
      ],
      "source": [
        "# Plot labeled_barplot for digital_media\n",
        "labeled_barplot(data, 'digital_media', perc = True)"
      ]
    },
    {
      "cell_type": "markdown",
      "id": "thick-coordination",
      "metadata": {
        "id": "thick-coordination"
      },
      "source": [
        "### Observations on educational_channels"
      ]
    },
    {
      "cell_type": "code",
      "execution_count": null,
      "id": "expensive-deposit",
      "metadata": {
        "id": "expensive-deposit",
        "colab": {
          "base_uri": "https://localhost:8080/",
          "height": 485
        },
        "outputId": "2060eb37-0782-489e-e552-2e372cb77921"
      },
      "outputs": [
        {
          "output_type": "display_data",
          "data": {
            "text/plain": [
              "<Figure size 300x500 with 1 Axes>"
            ],
            "image/png": "[encoded data removed]"
          },
          "metadata": {}
        }
      ],
      "source": [
        "# Plot labeled_barplot for educational_channels\n",
        "labeled_barplot(data, 'educational_channels', perc = True)"
      ]
    },
    {
      "cell_type": "markdown",
      "id": "bulgarian-paint",
      "metadata": {
        "id": "bulgarian-paint"
      },
      "source": [
        "### Observations on referral"
      ]
    },
    {
      "cell_type": "code",
      "execution_count": null,
      "id": "ordinary-foster",
      "metadata": {
        "id": "ordinary-foster",
        "colab": {
          "base_uri": "https://localhost:8080/",
          "height": 485
        },
        "outputId": "1f6f2004-eebf-4b9d-f045-204f3f309b18"
      },
      "outputs": [
        {
          "output_type": "display_data",
          "data": {
            "text/plain": [
              "<Figure size 300x500 with 1 Axes>"
            ],
            "image/png": "[encoded data removed]"
          },
          "metadata": {}
        }
      ],
      "source": [
        "# Plot labeled_barplot for referral\n",
        "labeled_barplot(data, 'referral', perc = True)"
      ]
    },
    {
      "cell_type": "markdown",
      "id": "behavioral-portfolio",
      "metadata": {
        "id": "behavioral-portfolio"
      },
      "source": [
        "### Observations on status"
      ]
    },
    {
      "cell_type": "code",
      "execution_count": null,
      "id": "abroad-moldova",
      "metadata": {
        "id": "abroad-moldova",
        "colab": {
          "base_uri": "https://localhost:8080/",
          "height": 464
        },
        "outputId": "af187252-df44-4e51-ee7e-8a225927e3d4"
      },
      "outputs": [
        {
          "output_type": "display_data",
          "data": {
            "text/plain": [
              "<Figure size 300x500 with 1 Axes>"
            ],
            "image/png": "[encoded data removed]"
          },
          "metadata": {}
        }
      ],
      "source": [
        "# Plot labeled_barplot for status\n",
        "labeled_barplot(data, 'status', perc = True)"
      ]
    },
    {
      "cell_type": "markdown",
      "id": "4c9c9cbd",
      "metadata": {
        "id": "4c9c9cbd"
      },
      "source": [
        "**Observations from Univariate Analysis:_________**"
      ]
    },
    {
      "cell_type": "markdown",
      "id": "arranged-courtesy",
      "metadata": {
        "id": "arranged-courtesy"
      },
      "source": [
        "### Bivariate Analysis"
      ]
    },
    {
      "cell_type": "code",
      "execution_count": null,
      "id": "official-wyoming",
      "metadata": {
        "id": "official-wyoming"
      },
      "outputs": [],
      "source": [
        "cols_list = data.select_dtypes(include=np.number).columns.tolist()\n",
        "\n",
        "plt.figure(figsize=(12, 7))\n",
        "sns.heatmap(\n",
        "    data[cols_list].corr(), annot=True, vmin=-1, vmax=1, fmt=\".2f\", cmap=\"Spectral\"\n",
        ")\n",
        "plt.show()"
      ]
    },
    {
      "cell_type": "markdown",
      "id": "upper-glass",
      "metadata": {
        "id": "upper-glass"
      },
      "source": [
        "**Creating functions that will help us with further analysis.**"
      ]
    },
    {
      "cell_type": "code",
      "execution_count": null,
      "id": "sought-bunny",
      "metadata": {
        "id": "sought-bunny"
      },
      "outputs": [],
      "source": [
        "### function to plot distributions wrt target\n",
        "\n",
        "\n",
        "def distribution_plot_wrt_target(data, predictor, target):\n",
        "\n",
        "    fig, axs = plt.subplots(2, 2, figsize=(12, 10))\n",
        "\n",
        "    target_uniq = data[target].unique()\n",
        "\n",
        "    axs[0, 0].set_title(\"Distribution of target for target=\" + str(target_uniq[0]))\n",
        "    sns.histplot(\n",
        "        data=data[data[target] == target_uniq[0]],\n",
        "        x=predictor,\n",
        "        kde=True,\n",
        "        ax=axs[0, 0],\n",
        "        color=\"teal\",\n",
        "        stat=\"density\",\n",
        "    )\n",
        "\n",
        "    axs[0, 1].set_title(\"Distribution of target for target=\" + str(target_uniq[1]))\n",
        "    sns.histplot(\n",
        "        data=data[data[target] == target_uniq[1]],\n",
        "        x=predictor,\n",
        "        kde=True,\n",
        "        ax=axs[0, 1],\n",
        "        color=\"orange\",\n",
        "        stat=\"density\",\n",
        "    )\n",
        "\n",
        "    axs[1, 0].set_title(\"Boxplot w.r.t target\")\n",
        "    sns.boxplot(data=data, x=target, y=predictor, ax=axs[1, 0], palette=\"gist_rainbow\")\n",
        "\n",
        "    axs[1, 1].set_title(\"Boxplot (without outliers) w.r.t target\")\n",
        "    sns.boxplot(\n",
        "        data=data,\n",
        "        x=target,\n",
        "        y=predictor,\n",
        "        ax=axs[1, 1],\n",
        "        showfliers=False,\n",
        "        palette=\"gist_rainbow\",\n",
        "    )\n",
        "\n",
        "    plt.tight_layout()\n",
        "    plt.show()"
      ]
    },
    {
      "cell_type": "code",
      "execution_count": null,
      "id": "quick-progress",
      "metadata": {
        "id": "quick-progress"
      },
      "outputs": [],
      "source": [
        "def stacked_barplot(data, predictor, target):\n",
        "    \"\"\"\n",
        "    Print the category counts and plot a stacked bar chart\n",
        "\n",
        "    data: dataframe\n",
        "    predictor: independent variable\n",
        "    target: target variable\n",
        "    \"\"\"\n",
        "    count = data[predictor].nunique()\n",
        "    sorter = data[target].value_counts().index[-1]\n",
        "    tab1 = pd.crosstab(data[predictor], data[target], margins=True).sort_values(\n",
        "        by=sorter, ascending=False\n",
        "    )\n",
        "    print(tab1)\n",
        "    print(\"-\" * 120)\n",
        "    tab = pd.crosstab(data[predictor], data[target], normalize=\"index\").sort_values(\n",
        "        by=sorter, ascending=False\n",
        "    )\n",
        "    tab.plot(kind=\"bar\", stacked=True, figsize=(count + 5, 5))\n",
        "    plt.legend(\n",
        "        loc=\"lower left\", frameon=False,\n",
        "    )\n",
        "    plt.legend(loc=\"upper left\", bbox_to_anchor=(1, 1))\n",
        "    plt.show()"
      ]
    },
    {
      "cell_type": "markdown",
      "id": "abstract-laptop",
      "metadata": {
        "id": "abstract-laptop"
      },
      "source": [
        "**Leads will have different expectations from the outcome of the course and the current occupation may play a key role for them to take the program. Let's analyze it**"
      ]
    },
    {
      "cell_type": "code",
      "execution_count": null,
      "id": "understood-butterfly",
      "metadata": {
        "id": "understood-butterfly"
      },
      "outputs": [],
      "source": [
        "stacked_barplot(data, \"current_occupation\", \"status\")"
      ]
    },
    {
      "cell_type": "markdown",
      "id": "pharmaceutical-sequence",
      "metadata": {
        "id": "pharmaceutical-sequence"
      },
      "source": [
        "**Age can be a good factor to differentiate between such leads**"
      ]
    },
    {
      "cell_type": "code",
      "execution_count": null,
      "id": "laden-siemens",
      "metadata": {
        "id": "laden-siemens"
      },
      "outputs": [],
      "source": [
        "plt.figure(figsize=(10, 5))\n",
        "sns.boxplot(data = data, x = data[\"current_occupation\"], y = data[\"age\"])\n",
        "plt.show()"
      ]
    },
    {
      "cell_type": "code",
      "execution_count": null,
      "id": "structured-aviation",
      "metadata": {
        "id": "structured-aviation"
      },
      "outputs": [],
      "source": [
        "data.groupby([\"current_occupation\"])[\"age\"].describe()"
      ]
    },
    {
      "cell_type": "markdown",
      "id": "micro-costs",
      "metadata": {
        "id": "micro-costs"
      },
      "source": [
        "**The company's first interaction with leads should be compelling and persuasive. Let's see if the channels of the first interaction have an impact on the conversion of leads**"
      ]
    },
    {
      "cell_type": "code",
      "execution_count": null,
      "id": "confused-secretariat",
      "metadata": {
        "id": "confused-secretariat"
      },
      "outputs": [],
      "source": [
        "stacked_barplot(________) # Complete the code to plot stacked_barplot for first_interaction and status"
      ]
    },
    {
      "cell_type": "code",
      "execution_count": null,
      "id": "verbal-columbus",
      "metadata": {
        "id": "verbal-columbus"
      },
      "outputs": [],
      "source": [
        "distribution_plot_wrt_target(data, \"time_spent_on_website\", \"status\")"
      ]
    },
    {
      "cell_type": "code",
      "execution_count": null,
      "id": "extraordinary-necklace",
      "metadata": {
        "id": "extraordinary-necklace"
      },
      "outputs": [],
      "source": [
        "# checking the median value\n",
        "data.groupby([\"status\"])[\"time_spent_on_website\"].median()"
      ]
    },
    {
      "cell_type": "markdown",
      "id": "minus-airline",
      "metadata": {
        "id": "minus-airline"
      },
      "source": [
        "**Let's do a similar analysis for time spent on website and page views per visit.**"
      ]
    },
    {
      "cell_type": "code",
      "execution_count": null,
      "id": "dedicated-oxford",
      "metadata": {
        "id": "dedicated-oxford"
      },
      "outputs": [],
      "source": [
        "distribution_plot_wrt_target(___________) # Complete the code to plot distribution for website_visits and status"
      ]
    },
    {
      "cell_type": "code",
      "execution_count": null,
      "id": "complex-request",
      "metadata": {
        "id": "complex-request"
      },
      "outputs": [],
      "source": [
        "distribution_plot_wrt_target(___________) # Complete the code to plot distribution for page_views_per_visit and status"
      ]
    },
    {
      "cell_type": "markdown",
      "id": "empirical-destination",
      "metadata": {
        "id": "empirical-destination"
      },
      "source": [
        "**People browsing the website or the mobile app are generally required to create a profile by sharing their personal details before they can access more information. Let's see if the profile completion level has an impact on lead status**"
      ]
    },
    {
      "cell_type": "code",
      "execution_count": null,
      "id": "piano-special",
      "metadata": {
        "id": "piano-special"
      },
      "outputs": [],
      "source": [
        "stacked_barplot(___________)  # Complete the code to plot stacked_barplot for profile_completed and status"
      ]
    },
    {
      "cell_type": "markdown",
      "id": "innocent-editor",
      "metadata": {
        "id": "innocent-editor"
      },
      "source": [
        "**After a lead shares their information by creating a profile, there may be interactions between the lead and the company to proceed with the process of enrollment. Let's see how the last activity impacts lead conversion status**"
      ]
    },
    {
      "cell_type": "code",
      "execution_count": null,
      "id": "suspended-memphis",
      "metadata": {
        "id": "suspended-memphis"
      },
      "outputs": [],
      "source": [
        "stacked_barplot(___________) # Complete the code to plot stacked_barplot for last_activity and status"
      ]
    },
    {
      "cell_type": "markdown",
      "id": "accompanied-authorization",
      "metadata": {
        "id": "accompanied-authorization"
      },
      "source": [
        "**Let's see how advertisement and referrals impact the lead status**"
      ]
    },
    {
      "cell_type": "code",
      "execution_count": null,
      "id": "regulated-start",
      "metadata": {
        "id": "regulated-start"
      },
      "outputs": [],
      "source": [
        "stacked_barplot(___________) # Complete the code to plot stacked_barplot for print_media_type1 and status"
      ]
    },
    {
      "cell_type": "code",
      "execution_count": null,
      "id": "grateful-turkey",
      "metadata": {
        "id": "grateful-turkey"
      },
      "outputs": [],
      "source": [
        "stacked_barplot(___________) # Complete the code to plot stacked_barplot for print_media_type2 and status"
      ]
    },
    {
      "cell_type": "code",
      "execution_count": null,
      "id": "sorted-colony",
      "metadata": {
        "id": "sorted-colony"
      },
      "outputs": [],
      "source": [
        "stacked_barplot(___________) # Complete the code to plot stacked_barplot for digital_media and status"
      ]
    },
    {
      "cell_type": "code",
      "execution_count": null,
      "id": "nonprofit-benefit",
      "metadata": {
        "id": "nonprofit-benefit"
      },
      "outputs": [],
      "source": [
        "stacked_barplot(___________) # Complete the code to plot stacked_barplot for educational_channels and status"
      ]
    },
    {
      "cell_type": "code",
      "execution_count": null,
      "id": "historical-selling",
      "metadata": {
        "id": "historical-selling"
      },
      "outputs": [],
      "source": [
        "stacked_barplot(___________) # Complete the code to plot stacked_barplot for referral and status"
      ]
    },
    {
      "cell_type": "markdown",
      "id": "powerful-couple",
      "metadata": {
        "id": "powerful-couple"
      },
      "source": [
        "### Outlier Check\n",
        "\n",
        "- Let's check for outliers in the data."
      ]
    },
    {
      "cell_type": "code",
      "execution_count": null,
      "id": "imported-uganda",
      "metadata": {
        "id": "imported-uganda"
      },
      "outputs": [],
      "source": [
        "# outlier detection using boxplot\n",
        "numeric_columns = data.select_dtypes(include=np.number).columns.tolist()\n",
        "# dropping release_year as it is a temporal variable\n",
        "numeric_columns.remove(\"status\")\n",
        "\n",
        "plt.figure(figsize=(15, 12))\n",
        "\n",
        "for i, variable in enumerate(numeric_columns):\n",
        "    plt.subplot(4, 4, i + 1)\n",
        "    plt.boxplot(data[variable], whis=1.5)\n",
        "    plt.tight_layout()\n",
        "    plt.title(variable)\n",
        "\n",
        "plt.show()"
      ]
    },
    {
      "cell_type": "markdown",
      "id": "c78ea9dd",
      "metadata": {
        "id": "c78ea9dd"
      },
      "source": [
        "**Observations:_________**"
      ]
    },
    {
      "cell_type": "markdown",
      "id": "pleased-chicken",
      "metadata": {
        "id": "pleased-chicken"
      },
      "source": [
        "### Data Preparation for modeling\n",
        "\n",
        "- We want to predict which lead is more likely to be converted.\n",
        "- Before we proceed to build a model, we'll have to encode categorical features.\n",
        "- We'll split the data into train and test to be able to evaluate the model that we build on the train data."
      ]
    },
    {
      "cell_type": "code",
      "execution_count": null,
      "id": "durable-allergy",
      "metadata": {
        "id": "durable-allergy"
      },
      "outputs": [],
      "source": [
        "X = data.drop([\"status\"], axis=1)\n",
        "Y = ___________ # Complete the code to define the dependent (target) variable\n",
        "\n",
        "X = pd.___________(X, drop_first=True) # Complete the code to get dummies for X\n",
        "\n",
        "# Splitting the data in 70:30 ratio for train to test data\n",
        "X_train, X_test, y_train, y_test = train_test_split(\n",
        "    X, Y, test_size=0.30, random_state=1\n",
        ")"
      ]
    },
    {
      "cell_type": "code",
      "execution_count": null,
      "id": "ecological-principal",
      "metadata": {
        "id": "ecological-principal"
      },
      "outputs": [],
      "source": [
        "print(\"Shape of Training set : \", X_train.shape)\n",
        "print(\"Shape of test set : \", X_test.shape)\n",
        "print(\"Percentage of classes in training set:\")\n",
        "print(y_train.value_counts(normalize=True))\n",
        "print(\"Percentage of classes in test set:\")\n",
        "print(y_test.value_counts(normalize=True))"
      ]
    },
    {
      "cell_type": "markdown",
      "id": "43459748",
      "metadata": {
        "id": "43459748"
      },
      "source": [
        "## **Building Classification Models**"
      ]
    },
    {
      "cell_type": "markdown",
      "id": "cultural-engagement",
      "metadata": {
        "id": "cultural-engagement"
      },
      "source": [
        "### Model evaluation criterion\n",
        "\n",
        "### Model can make wrong predictions as:\n",
        "\n",
        "1. Predicting a lead will not be converted to a paid customer in reality, the lead would have converted to a paid customer.\n",
        "2. Predicting a lead will be converted to a paid customer in reality, the lead would not have converted to a paid customer.\n",
        "\n",
        "### Which case is more important?\n",
        "\n",
        "* If we predict that a lead will not get converted and the lead would have converted then the company will lose a potential customer.\n",
        "\n",
        "* If we predict that a lead will get converted and the lead doesn't get converted the company might lose resources by nurturing false-positive cases.\n",
        "\n",
        "Losing a potential customer is a greater loss.\n",
        "\n",
        "### How to reduce the losses?\n",
        "\n",
        "* Company would want `Recall` to be maximized, greater the Recall score higher are the chances of minimizing False Negatives."
      ]
    },
    {
      "cell_type": "markdown",
      "id": "ruled-appointment",
      "metadata": {
        "id": "ruled-appointment"
      },
      "source": [
        "#### First, let's create functions to calculate different metrics and confusion matrix so that we don't have to use the same code repeatedly for each model.\n",
        "* The model_performance_classification_statsmodels function will be used to check the model performance of models.\n",
        "* The confusion_matrix_statsmodels function will be used to plot the confusion matrix."
      ]
    },
    {
      "cell_type": "code",
      "execution_count": null,
      "id": "prime-front",
      "metadata": {
        "id": "prime-front"
      },
      "outputs": [],
      "source": [
        "# Function to print the classification report and get confusion matrix in a proper format\n",
        "\n",
        "def metrics_score(actual, predicted):\n",
        "    print(classification_report(actual, predicted))\n",
        "\n",
        "    cm = confusion_matrix(actual, predicted)\n",
        "\n",
        "    plt.figure(figsize = (8, 5))\n",
        "\n",
        "    sns.heatmap(cm, annot = True,  fmt = '.2f', xticklabels = ['Not Converted', 'Converted'], yticklabels = ['Not Converted', 'Converted'])\n",
        "\n",
        "    plt.ylabel('Actual')\n",
        "\n",
        "    plt.xlabel('Predicted')\n",
        "\n",
        "    plt.show()"
      ]
    },
    {
      "cell_type": "markdown",
      "id": "separated-prague",
      "metadata": {
        "id": "separated-prague"
      },
      "source": [
        "## Decision Tree"
      ]
    },
    {
      "cell_type": "markdown",
      "id": "immune-malta",
      "metadata": {
        "id": "immune-malta"
      },
      "source": [
        "### Building Decision Tree Model"
      ]
    },
    {
      "cell_type": "code",
      "execution_count": null,
      "id": "recognized-nurse",
      "metadata": {
        "id": "recognized-nurse"
      },
      "outputs": [],
      "source": [
        "# Fitting the decision tree classifier on the training data\n",
        "d_tree =  ___________\n",
        "\n",
        "d_tree.___________"
      ]
    },
    {
      "cell_type": "markdown",
      "id": "identified-upper",
      "metadata": {
        "id": "identified-upper"
      },
      "source": [
        "#### Checking model performance on training set"
      ]
    },
    {
      "cell_type": "code",
      "execution_count": null,
      "id": "7583ecb8",
      "metadata": {
        "id": "7583ecb8"
      },
      "outputs": [],
      "source": [
        "# Checking performance on the training data\n",
        "y_pred_train1 = ___________\n",
        "\n",
        "metrics_score(y_train, y_pred_train1)"
      ]
    },
    {
      "cell_type": "markdown",
      "id": "7cBl_6npl1Vu",
      "metadata": {
        "id": "7cBl_6npl1Vu"
      },
      "source": [
        "**Observations:_________**"
      ]
    },
    {
      "cell_type": "markdown",
      "id": "AhFWT3akl1Vv",
      "metadata": {
        "id": "AhFWT3akl1Vv"
      },
      "source": [
        "\n",
        "**Let's check the performance on test data to see if the model is overfitting.**"
      ]
    },
    {
      "cell_type": "code",
      "execution_count": null,
      "id": "qoL748T1l1Vv",
      "metadata": {
        "id": "qoL748T1l1Vv",
        "scrolled": false
      },
      "outputs": [],
      "source": [
        "# Checking performance on the testing data\n",
        "y_pred_test1 = ___________\n",
        "\n",
        "___________"
      ]
    },
    {
      "cell_type": "markdown",
      "id": "l7ge1NECl1Vv",
      "metadata": {
        "id": "l7ge1NECl1Vv"
      },
      "source": [
        "**Observations:_________**"
      ]
    },
    {
      "cell_type": "markdown",
      "id": "4wbVV72Al1Vw",
      "metadata": {
        "id": "4wbVV72Al1Vw"
      },
      "source": [
        "**Let's try hyperparameter tuning using GridSearchCV to find the optimal max_depth** to reduce overfitting of the model. We can tune some other hyperparameters as well."
      ]
    },
    {
      "cell_type": "markdown",
      "id": "q6VYYJBcl1Vw",
      "metadata": {
        "id": "q6VYYJBcl1Vw"
      },
      "source": [
        "### **Decision Tree - Hyperparameter Tuning**\n",
        "\n",
        "We will use the class_weight hyperparameter with the value equal to {0: 0.3, 1: 0.7} which is approximately the opposite of the imbalance in the original data.\n",
        "\n",
        "**This would tell the model that 1 is the important class here.**"
      ]
    },
    {
      "cell_type": "code",
      "execution_count": null,
      "id": "QUOBxb0vl1Vw",
      "metadata": {
        "id": "QUOBxb0vl1Vw"
      },
      "outputs": [],
      "source": [
        "# Choose the type of classifier\n",
        "d_tree_tuned = DecisionTreeClassifier(random_state = 7, class_weight = {0: 0.3, 1: 0.7})\n",
        "\n",
        "# Grid of parameters to choose from\n",
        "parameters = {'max_depth': np.arange(2, 10),\n",
        "              'criterion': ['gini', 'entropy'],\n",
        "              'min_samples_leaf': [5, 10, 20, 25]\n",
        "             }\n",
        "\n",
        "# Type of scoring used to compare parameter combinations - recall score for class 1\n",
        "scorer = metrics.make_scorer(recall_score, pos_label = 1)\n",
        "\n",
        "# Run the grid search\n",
        "grid_obj = GridSearchCV(d_tree_tuned, parameters, scoring = scorer, cv = 5)\n",
        "\n",
        "grid_obj = grid_obj.fit(X_train, y_train)\n",
        "\n",
        "# Set the classifier to the best combination of parameters\n",
        "d_tree_tuned = grid_obj.best_estimator_\n",
        "\n",
        "# Fit the best algorithm to the data\n",
        "d_tree_tuned.fit(X_train, y_train)"
      ]
    },
    {
      "cell_type": "markdown",
      "id": "SCJ4-_lNl1Vx",
      "metadata": {
        "id": "SCJ4-_lNl1Vx"
      },
      "source": [
        "We have tuned the model and fit the tuned model on the training data. Now, **let's check the model performance on the training and testing data.**"
      ]
    },
    {
      "cell_type": "markdown",
      "id": "neither-omaha",
      "metadata": {
        "id": "neither-omaha"
      },
      "source": [
        "#### Checking model performance on train and test set"
      ]
    },
    {
      "cell_type": "code",
      "execution_count": null,
      "id": "l5-O5Fcvl1V4",
      "metadata": {
        "id": "l5-O5Fcvl1V4"
      },
      "outputs": [],
      "source": [
        "# Checking performance on the training data\n",
        "y_pred_train2 = ___________\n",
        "\n",
        "___________"
      ]
    },
    {
      "cell_type": "markdown",
      "id": "zlJcsocUl1V5",
      "metadata": {
        "id": "zlJcsocUl1V5"
      },
      "source": [
        "**Observations:__________**"
      ]
    },
    {
      "cell_type": "markdown",
      "id": "QBEurd8rl1V5",
      "metadata": {
        "id": "QBEurd8rl1V5"
      },
      "source": [
        "**Let's check the model performance on the testing data**"
      ]
    },
    {
      "cell_type": "code",
      "execution_count": null,
      "id": "hV7PLZKZl1V8",
      "metadata": {
        "id": "hV7PLZKZl1V8"
      },
      "outputs": [],
      "source": [
        "# Checking performance on the testing data\n",
        "y_pred_test2 = ___________\n",
        "\n",
        "___________"
      ]
    },
    {
      "cell_type": "markdown",
      "id": "uPqbtr-rl1V9",
      "metadata": {
        "id": "uPqbtr-rl1V9"
      },
      "source": [
        "**Observations:__________**"
      ]
    },
    {
      "cell_type": "markdown",
      "id": "fa653aac",
      "metadata": {
        "id": "fa653aac"
      },
      "source": [
        "### Visualizing the Decision Tree"
      ]
    },
    {
      "cell_type": "markdown",
      "id": "U51Ei4r9l1V9",
      "metadata": {
        "id": "U51Ei4r9l1V9"
      },
      "source": [
        "**Let's visualize the tuned decision tree** and observe the decision rules:"
      ]
    },
    {
      "cell_type": "code",
      "execution_count": null,
      "id": "a26a96a3",
      "metadata": {
        "id": "a26a96a3"
      },
      "outputs": [],
      "source": [
        "features = list(X.columns)\n",
        "\n",
        "plt.figure(figsize = (20, 20))\n",
        "\n",
        "tree.plot_tree(d_tree_tuned, feature_names = features, filled = True, fontsize = 9, node_ids = True, class_names = True)\n",
        "\n",
        "plt.show()"
      ]
    },
    {
      "cell_type": "markdown",
      "id": "6h5oT4yvl1WA",
      "metadata": {
        "id": "6h5oT4yvl1WA"
      },
      "source": [
        "**Note:** Blue leaves represent the converted leads, i.e., **y[1]**, while the orange leaves represent the not converted leads, i.e., **y[0]**. Also, the more the number of observations in a leaf, the darker its color gets.\n",
        "\n",
        "**Observations:_________**"
      ]
    },
    {
      "cell_type": "markdown",
      "id": "0AudAn9wl1WB",
      "metadata": {
        "id": "0AudAn9wl1WB"
      },
      "source": [
        "**Let's look at the feature importance** of the tuned decision tree model"
      ]
    },
    {
      "cell_type": "code",
      "execution_count": null,
      "id": "QGwyZ_zal1WB",
      "metadata": {
        "id": "QGwyZ_zal1WB"
      },
      "outputs": [],
      "source": [
        "# Importance of features in the tree building\n",
        "\n",
        "print (pd.DataFrame(d_tree_tuned.feature_importances_, columns = [\"Imp\"], index = X_train.columns).sort_values(by = 'Imp', ascending = False))"
      ]
    },
    {
      "cell_type": "code",
      "execution_count": null,
      "id": "1W9Ag_S8l1WD",
      "metadata": {
        "id": "1W9Ag_S8l1WD"
      },
      "outputs": [],
      "source": [
        "# Plotting the feature importance\n",
        "importances = d_tree_tuned.feature_importances_\n",
        "\n",
        "indices = np.argsort(importances)\n",
        "\n",
        "plt.figure(figsize = (10, 10))\n",
        "\n",
        "plt.title('Feature Importances')\n",
        "\n",
        "plt.barh(range(len(indices)), importances[indices], color = 'violet', align = 'center')\n",
        "\n",
        "plt.yticks(range(len(indices)), [features[i] for i in indices])\n",
        "\n",
        "plt.xlabel('Relative Importance')\n",
        "\n",
        "plt.show()"
      ]
    },
    {
      "cell_type": "markdown",
      "id": "Djz314O9l1WD",
      "metadata": {
        "id": "Djz314O9l1WD"
      },
      "source": [
        "**Observations:**\n",
        "- **Time spent on the website and first_interaction_website are the most important features** **followed by profile_completed, age, and last_activity**.\n",
        "- **The rest of the variables have no impact in this model, while deciding whether a lead will be converted or not**.\n",
        "\n",
        "Now, let's build another model - **a random forest classifier.**"
      ]
    },
    {
      "cell_type": "markdown",
      "id": "gds-sUrMl1WD",
      "metadata": {
        "id": "gds-sUrMl1WD"
      },
      "source": [
        "### **Random Forest Classifier**"
      ]
    },
    {
      "cell_type": "markdown",
      "id": "292eb6bb",
      "metadata": {
        "id": "292eb6bb"
      },
      "source": [
        "### Building Random Forest Model"
      ]
    },
    {
      "cell_type": "code",
      "execution_count": null,
      "id": "030394ef",
      "metadata": {
        "id": "030394ef"
      },
      "outputs": [],
      "source": [
        "# Fitting the random forest tree classifier on the training data\n",
        "rf_estimator = ___________\n",
        "\n",
        "rf_estimator.___________"
      ]
    },
    {
      "cell_type": "markdown",
      "id": "akTwbuZWl1WF",
      "metadata": {
        "id": "akTwbuZWl1WF"
      },
      "source": [
        "**Let's check the performance of the model on the training data**"
      ]
    },
    {
      "cell_type": "code",
      "execution_count": null,
      "id": "1201f323",
      "metadata": {
        "id": "1201f323"
      },
      "outputs": [],
      "source": [
        "# Checking performance on the training data\n",
        "y_pred_train3 = ___________\n",
        "\n",
        "___________"
      ]
    },
    {
      "cell_type": "markdown",
      "id": "Fwoe0aSMl1WF",
      "metadata": {
        "id": "Fwoe0aSMl1WF"
      },
      "source": [
        "**Observations:________**"
      ]
    },
    {
      "cell_type": "markdown",
      "id": "sOfSZihal1WG",
      "metadata": {
        "id": "sOfSZihal1WG"
      },
      "source": [
        "**Let's check the performance on the testing data**"
      ]
    },
    {
      "cell_type": "code",
      "execution_count": null,
      "id": "Gx_ev8Sdl1WG",
      "metadata": {
        "id": "Gx_ev8Sdl1WG"
      },
      "outputs": [],
      "source": [
        "# Checking performance on the testing data\n",
        "y_pred_test3 = ___________\n",
        "\n",
        "___________"
      ]
    },
    {
      "cell_type": "markdown",
      "id": "nW54PCfRl1WH",
      "metadata": {
        "id": "nW54PCfRl1WH"
      },
      "source": [
        "**Observations:____**"
      ]
    },
    {
      "cell_type": "markdown",
      "id": "f2QbULkSl1WH",
      "metadata": {
        "id": "f2QbULkSl1WH"
      },
      "source": [
        "**Let's see if we can get a better model by tuning the random forest classifier**"
      ]
    },
    {
      "cell_type": "markdown",
      "id": "WtpYbBsOl1WI",
      "metadata": {
        "id": "WtpYbBsOl1WI"
      },
      "source": [
        "### **Random Forest Classifier - Hyperparameter Tuning**"
      ]
    },
    {
      "cell_type": "markdown",
      "id": "JHjzv_JHl1WJ",
      "metadata": {
        "id": "JHjzv_JHl1WJ"
      },
      "source": [
        "Let's try **tuning some of the important hyperparameters of the Random Forest Classifier**.\n",
        "\n",
        "We will **not** tune the `criterion` hyperparameter as we know from hyperparameter tuning for decision trees that `entropy` is a better splitting criterion for this data."
      ]
    },
    {
      "cell_type": "code",
      "execution_count": null,
      "id": "x7CYCKC3l1WL",
      "metadata": {
        "id": "x7CYCKC3l1WL"
      },
      "outputs": [],
      "source": [
        "# Choose the type of classifier\n",
        "rf_estimator_tuned = RandomForestClassifier(criterion = \"entropy\", random_state = 7)\n",
        "\n",
        "# Grid of parameters to choose from\n",
        "parameters = {\"n_estimators\": [110, 120],\n",
        "    \"max_depth\": [6, 7],\n",
        "    \"min_samples_leaf\": [20, 25],\n",
        "    \"max_features\": [0.8, 0.9],\n",
        "    \"max_samples\": [0.9, 1],\n",
        "    \"class_weight\": [\"balanced\",{0: 0.3, 1: 0.7}]\n",
        "             }\n",
        "\n",
        "# Type of scoring used to compare parameter combinations - recall score for class 1\n",
        "scorer = metrics.make_scorer(recall_score, pos_label = 1)\n",
        "\n",
        "# Run the grid search on the training data using scorer=scorer and cv=5\n",
        "grid_obj = __________________\n",
        "\n",
        "grid_obj = __________________\n",
        "\n",
        "# Save the best estimator to variable rf_estimator_tuned\n",
        "rf_estimator_tuned = ________________"
      ]
    },
    {
      "cell_type": "code",
      "execution_count": null,
      "id": "eh2vUQ9JRd8H",
      "metadata": {
        "id": "eh2vUQ9JRd8H"
      },
      "outputs": [],
      "source": [
        "# Fitting the best algorithm to the training data\n",
        "rf_estimator_tuned.________________"
      ]
    },
    {
      "cell_type": "code",
      "execution_count": null,
      "id": "76ce621e",
      "metadata": {
        "id": "76ce621e"
      },
      "outputs": [],
      "source": [
        "# Checking performance on the training data\n",
        "y_pred_train4 = ______________\n",
        "\n",
        "_________________"
      ]
    },
    {
      "cell_type": "markdown",
      "id": "7D2Vcgfml1WT",
      "metadata": {
        "id": "7D2Vcgfml1WT"
      },
      "source": [
        "**Let's check the model performance on the test data**"
      ]
    },
    {
      "cell_type": "code",
      "execution_count": null,
      "id": "29bPvZVyl1WT",
      "metadata": {
        "id": "29bPvZVyl1WT"
      },
      "outputs": [],
      "source": [
        "# Checking performance on the test data\n",
        "y_pred_train4 = ________________\n",
        "\n",
        "________________"
      ]
    },
    {
      "cell_type": "markdown",
      "id": "JvKFHbrjl1WU",
      "metadata": {
        "id": "JvKFHbrjl1WU"
      },
      "source": [
        "**Observations:___________**"
      ]
    },
    {
      "cell_type": "markdown",
      "id": "CgfMe8FEl1WV",
      "metadata": {
        "id": "CgfMe8FEl1WV"
      },
      "source": [
        "**One of the drawbacks of ensemble models is that we lose the ability to obtain an interpretation of the model. We cannot observe the decision rules for random forests the way we did for decision trees. So, let's just check the feature importance of the model.**"
      ]
    },
    {
      "cell_type": "code",
      "execution_count": null,
      "id": "HDEAfI6rl1WV",
      "metadata": {
        "id": "HDEAfI6rl1WV"
      },
      "outputs": [],
      "source": [
        "importances = rf_estimator_tuned.feature_importances_\n",
        "\n",
        "indices = np.argsort(importances)\n",
        "\n",
        "feature_names = list(X.columns)\n",
        "\n",
        "plt.figure(figsize = (12, 12))\n",
        "\n",
        "plt.title('Feature Importances')\n",
        "\n",
        "plt.barh(range(len(indices)), importances[indices], color = 'violet', align = 'center')\n",
        "\n",
        "plt.yticks(range(len(indices)), [feature_names[i] for i in indices])\n",
        "\n",
        "plt.xlabel('Relative Importance')\n",
        "\n",
        "plt.show()"
      ]
    },
    {
      "cell_type": "markdown",
      "id": "xHWIIxSSl1WW",
      "metadata": {
        "id": "xHWIIxSSl1WW"
      },
      "source": [
        "**Observations:**\n",
        "- Similar to the decision tree model, **time spent on website, first_interaction_website, profile_completed, and age are the top four features** that help distinguish between not converted and converted leads.\n",
        "- Unlike the decision tree, **the random forest gives some importance to other variables like occupation, page_views_per_visit, as well.** This implies that the random forest is giving importance to more factors in comparison to the decision tree."
      ]
    },
    {
      "cell_type": "markdown",
      "id": "8SlUg3wUl1WW",
      "metadata": {
        "id": "8SlUg3wUl1WW"
      },
      "source": [
        "## **Conclusion and Recommendations**"
      ]
    },
    {
      "cell_type": "markdown",
      "id": "oskeSIH0l1WY",
      "metadata": {
        "id": "oskeSIH0l1WY"
      },
      "source": [
        "### **Conclusions:________**"
      ]
    },
    {
      "cell_type": "markdown",
      "id": "Kak6mdNil1WY",
      "metadata": {
        "id": "Kak6mdNil1WY"
      },
      "source": [
        "### **Business Recommendations:_____**"
      ]
    }
  ],
  "metadata": {
    "colab": {
      "provenance": [],
      "include_colab_link": true
    },
    "kernelspec": {
      "display_name": "Python 3 (ipykernel)",
      "language": "python",
      "name": "python3"
    },
    "language_info": {
      "codemirror_mode": {
        "name": "ipython",
        "version": 3
      },
      "file_extension": ".py",
      "mimetype": "text/x-python",
      "name": "python",
      "nbconvert_exporter": "python",
      "pygments_lexer": "ipython3",
      "version": "3.9.13"
    }
  },
  "nbformat": 4,
  "nbformat_minor": 5
}